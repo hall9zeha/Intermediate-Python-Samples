{
 "cells": [
  {
   "cell_type": "code",
   "execution_count": 5,
   "metadata": {},
   "outputs": [
    {
     "name": "stdout",
     "output_type": "stream",
     "text": [
      "<class 'int'>\n",
      "<class 'str'>\n",
      "<class 'float'>\n",
      "<class 'list'>\n"
     ]
    }
   ],
   "source": [
    "#identificando tipos de datos\n",
    "print(type(1))\n",
    "print(type(\"hola\"))\n",
    "print(type(2.1))\n",
    "lista=[2]\n",
    "print(type(lista))"
   ]
  },
  {
   "cell_type": "code",
   "execution_count": 6,
   "metadata": {},
   "outputs": [
    {
     "name": "stdout",
     "output_type": "stream",
     "text": [
      "50\n",
      "15\n",
      "holamundo\n",
      "a\n",
      "ola\n",
      "[1, 2, 3, 1, 2, 3]\n"
     ]
    }
   ],
   "source": [
    "#determinar que resultado aparecerá\n",
    "a=10\n",
    "b=-5\n",
    "c=\"hola\"\n",
    "d=[1,2,3]\n",
    "print(a*5)\n",
    "print(a-b)\n",
    "print(c+ \"mundo\")\n",
    "print(c[-1])\n",
    "print(c[1:])\n",
    "print(d+d)"
   ]
  },
  {
   "cell_type": "code",
   "execution_count": 9,
   "metadata": {},
   "outputs": [
    {
     "name": "stdout",
     "output_type": "stream",
     "text": [
      "la media es:  14.0\n"
     ]
    }
   ],
   "source": [
    "#promedio de tres notas\n",
    "a=int(9)\n",
    "b=int(3)\n",
    "c=int(6)\n",
    "media= a+b+c/3\n",
    "print(\"la media es: \" , media)"
   ]
  },
  {
   "cell_type": "code",
   "execution_count": 10,
   "metadata": {},
   "outputs": [
    {
     "data": {
      "text/plain": [
       "5.949999999999999"
      ]
     },
     "execution_count": 10,
     "metadata": {},
     "output_type": "execute_result"
    }
   ],
   "source": [
    "#promedio de 3 porcentajes\n",
    "nota_1=int(10)#15%\n",
    "nota_2=int(7)#35%\n",
    "nota_3=int(4)#50%\n",
    "media=nota_1 * 0.15 + nota_2 * 0.35  + nota_3 * 0.50\n",
    "media\n",
    "\n"
   ]
  },
  {
   "cell_type": "code",
   "execution_count": 16,
   "metadata": {},
   "outputs": [],
   "source": [
    "#El resultado de las ultima columna de cada matriz debe ser la suma de los tres primeros\n",
    "matriz=[[1,1,1,3],\n",
    "       [2,2,2,7],\n",
    "        [3,3,3,9],\n",
    "        [4,4,4,13]\n",
    "       ]\n",
    "matriz[1][3]=6\n",
    "matriz[-1][3]=12\n"
   ]
  },
  {
   "cell_type": "code",
   "execution_count": 17,
   "metadata": {},
   "outputs": [
    {
     "data": {
      "text/plain": [
       "[[1, 1, 1, 3], [2, 2, 2, 6], [3, 3, 3, 9], [4, 4, 4, 12]]"
      ]
     },
     "execution_count": 17,
     "metadata": {},
     "output_type": "execute_result"
    }
   ],
   "source": [
    "matriz"
   ]
  },
  {
   "cell_type": "code",
   "execution_count": 22,
   "metadata": {},
   "outputs": [
    {
     "data": {
      "text/plain": [
       "[[1, 1, 1, 3], [2, 2, 2, 6], [3, 3, 3, 9], [4, 4, 4, 12]]"
      ]
     },
     "execution_count": 22,
     "metadata": {},
     "output_type": "execute_result"
    }
   ],
   "source": [
    "#otra forma usando la función suma suma 2 + 2 + 2 =6\n",
    "matriz[1][-1]=sum(matriz[1][:-1])\n",
    "matriz[-1][3]=sum(matriz[-1][:-1])\n",
    "matriz"
   ]
  },
  {
   "cell_type": "code",
   "execution_count": 37,
   "metadata": {},
   "outputs": [
    {
     "data": {
      "text/plain": [
       "'10 ,Juan Pérez'"
      ]
     },
     "execution_count": 37,
     "metadata": {},
     "output_type": "execute_result"
    }
   ],
   "source": [
    "#voltear una cadena utilizando slicing\n",
    "cadena=\"zeréP nauJ, 01\"\n",
    "cadena_volteada=cadena[::-1]\n",
    "cadena_volteada"
   ]
  },
  {
   "cell_type": "code",
   "execution_count": 47,
   "metadata": {},
   "outputs": [
    {
     "name": "stdout",
     "output_type": "stream",
     "text": [
      "Juan Pérez ha sacado 10 \n"
     ]
    }
   ],
   "source": [
    "nombre_apellido =cadena_volteada[4:]\n",
    "nota=cadena_volteada[:3]\n",
    "print(nombre_apellido,\"ha sacado\", nota)"
   ]
  },
  {
   "cell_type": "code",
   "execution_count": null,
   "metadata": {},
   "outputs": [],
   "source": []
  }
 ],
 "metadata": {
  "kernelspec": {
   "display_name": "Python 3",
   "language": "python",
   "name": "python3"
  },
  "language_info": {
   "codemirror_mode": {
    "name": "ipython",
    "version": 3
   },
   "file_extension": ".py",
   "mimetype": "text/x-python",
   "name": "python",
   "nbconvert_exporter": "python",
   "pygments_lexer": "ipython3",
   "version": "3.7.6"
  }
 },
 "nbformat": 4,
 "nbformat_minor": 4
}
