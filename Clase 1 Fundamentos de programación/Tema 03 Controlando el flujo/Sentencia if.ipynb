{
 "cells": [
  {
   "cell_type": "code",
   "execution_count": 3,
   "metadata": {},
   "outputs": [],
   "source": [
    "if True:\n",
    "    print(\"Es verdadero\") ##cambiando a false no devolverá nada, repasamos lo básico "
   ]
  },
  {
   "cell_type": "code",
   "execution_count": 4,
   "metadata": {},
   "outputs": [
    {
     "name": "stdout",
     "output_type": "stream",
     "text": [
      "a vale 5\n"
     ]
    }
   ],
   "source": [
    "a=5\n",
    "if a==2:\n",
    "    print(\"a vale 2\")\n",
    "if a==5:\n",
    "    print(\"a vale 5\")"
   ]
  },
  {
   "cell_type": "code",
   "execution_count": 5,
   "metadata": {},
   "outputs": [
    {
     "name": "stdout",
     "output_type": "stream",
     "text": [
      "a vale 5\n",
      "b vale 10\n"
     ]
    }
   ],
   "source": [
    "a=5\n",
    "b=10\n",
    "if a==5:\n",
    "    print(\"a vale\", a)\n",
    "    if b==10:\n",
    "        print(\"b vale\",b)"
   ]
  },
  {
   "cell_type": "code",
   "execution_count": 7,
   "metadata": {},
   "outputs": [
    {
     "name": "stdout",
     "output_type": "stream",
     "text": [
      "a vale 5 y b vale  10\n"
     ]
    }
   ],
   "source": [
    "if a==5 and b==10:\n",
    "    print(\"a vale\",a, \"y b vale \",b )"
   ]
  },
  {
   "cell_type": "code",
   "execution_count": 8,
   "metadata": {},
   "outputs": [
    {
     "name": "stdout",
     "output_type": "stream",
     "text": [
      "10 Es un número par\n"
     ]
    }
   ],
   "source": [
    "n=10\n",
    "if n%2==0:\n",
    "    print(n, \"Es un número par\")\n",
    "else: \n",
    "    print(n, \"Es un número impar\")"
   ]
  },
  {
   "cell_type": "code",
   "execution_count": 9,
   "metadata": {},
   "outputs": [
    {
     "name": "stdout",
     "output_type": "stream",
     "text": [
      "Bienvenido a python\n"
     ]
    }
   ],
   "source": [
    "comando=\"Entrar\"\n",
    "if comando==\"Entrar\":\n",
    "    print(\"Bienvenido a python\")\n",
    "elif comando==\"Saludo\":\n",
    "    print(\"Hola mundo\")\n",
    "else: \n",
    "    print(\"el comando no se reconoce\")"
   ]
  },
  {
   "cell_type": "code",
   "execution_count": 11,
   "metadata": {},
   "outputs": [
    {
     "name": "stdout",
     "output_type": "stream",
     "text": [
      "Ingresa una nota de 1 a 105\n",
      "suficiente\n"
     ]
    }
   ],
   "source": [
    "#En python no existe la sentencia  switch\n",
    "#es mejor utilizar elif ya que nos ahorra código que solo utilizando if\n",
    "nota=int(input(\"Ingresa una nota de 1 a 10\"))\n",
    "if nota>=9:\n",
    "    print(\"sobresaliente\")\n",
    "elif nota >=7:\n",
    "    print(\"Notable\")\n",
    "elif nota >=6:\n",
    "    print(\"Bueno\")\n",
    "elif nota >=5:\n",
    "    print(\"suficiente\")\n",
    "else:\n",
    "    print(\"Insuficiente\")"
   ]
  },
  {
   "cell_type": "code",
   "execution_count": null,
   "metadata": {},
   "outputs": [],
   "source": [
    "if True:\n",
    "    pass #para indicar que siga a la siguiente comprobación"
   ]
  },
  {
   "cell_type": "code",
   "execution_count": null,
   "metadata": {},
   "outputs": [],
   "source": []
  }
 ],
 "metadata": {
  "kernelspec": {
   "display_name": "Python 3",
   "language": "python",
   "name": "python3"
  },
  "language_info": {
   "codemirror_mode": {
    "name": "ipython",
    "version": 3
   },
   "file_extension": ".py",
   "mimetype": "text/x-python",
   "name": "python",
   "nbconvert_exporter": "python",
   "pygments_lexer": "ipython3",
   "version": "3.7.6"
  }
 },
 "nbformat": 4,
 "nbformat_minor": 4
}
