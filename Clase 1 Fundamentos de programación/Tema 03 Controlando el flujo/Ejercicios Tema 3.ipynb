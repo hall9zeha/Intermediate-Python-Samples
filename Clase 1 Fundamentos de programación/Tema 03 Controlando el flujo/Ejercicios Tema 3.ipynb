{
 "cells": [
  {
   "cell_type": "code",
   "execution_count": 1,
   "metadata": {},
   "outputs": [
    {
     "name": "stdout",
     "output_type": "stream",
     "text": [
      "ingresa el primer número: 4\n",
      "ingresa el segundo número: 5\n",
      "Bienvenido \n",
      "    ¿Qué deseas hacer?\n",
      "    1. Sumar\n",
      "    2. Restar\n",
      "    3. Multiplicar\n",
      "    4. Salir\n",
      "1\n",
      "la suma es 9.0\n",
      "Bienvenido \n",
      "    ¿Qué deseas hacer?\n",
      "    1. Sumar\n",
      "    2. Restar\n",
      "    3. Multiplicar\n",
      "    4. Salir\n",
      "2\n",
      "la resta es -1.0\n",
      "Bienvenido \n",
      "    ¿Qué deseas hacer?\n",
      "    1. Sumar\n",
      "    2. Restar\n",
      "    3. Multiplicar\n",
      "    4. Salir\n",
      "3\n",
      "el producto es 20.0\n",
      "Bienvenido \n",
      "    ¿Qué deseas hacer?\n",
      "    1. Sumar\n",
      "    2. Restar\n",
      "    3. Multiplicar\n",
      "    4. Salir\n",
      "4\n",
      "Adios\n"
     ]
    }
   ],
   "source": [
    "#programa que lea dos números desde teclado y permita elegir tres opciones\n",
    "\n",
    "a=float(input(\"ingresa el primer número: \"))\n",
    "b=float(input(\"ingresa el segundo número: \")) \n",
    "\n",
    "while True:\n",
    "    print(\"\"\"Bienvenido \n",
    "    ¿Qué deseas hacer?\n",
    "    1. Sumar\n",
    "    2. Restar\n",
    "    3. Multiplicar\n",
    "    4. Salir\"\"\")\n",
    "    op=input()\n",
    "    if op=='1':\n",
    "        print(\"la suma es\",a+b)\n",
    "    elif op=='2':\n",
    "        print(\"la resta es\", a-b)\n",
    "    elif op=='3':\n",
    "        print(\"el producto es\", a*b)\n",
    "    elif op=='4':\n",
    "        print(\"Adios\")\n",
    "        break\n",
    "    else:\n",
    "        print(\"Comando no reconocido\")\n",
    "    "
   ]
  },
  {
   "cell_type": "code",
   "execution_count": 2,
   "metadata": {},
   "outputs": [
    {
     "name": "stdout",
     "output_type": "stream",
     "text": [
      "Ingresa un número impar: \n",
      "2\n",
      "intentalo de nuevo\n",
      "Ingresa un número impar: \n",
      "4\n",
      "intentalo de nuevo\n",
      "Ingresa un número impar: \n",
      "7\n",
      "7 Es Impar\n"
     ]
    }
   ],
   "source": [
    "#ingresar un número impar por teclado, si no lo ingresas correctamente repetir el bucle hasta que ingres un número impar\n",
    "while True:\n",
    "    print(\"Ingresa un número impar: \")\n",
    "    num=int(input())\n",
    "    if num%2 ==0:\n",
    "        print(\"intentalo de nuevo\")\n",
    "    else: \n",
    "        print(num, \"Es Impar\")\n",
    "        break\n",
    "        "
   ]
  },
  {
   "cell_type": "code",
   "execution_count": 9,
   "metadata": {},
   "outputs": [
    {
     "name": "stdout",
     "output_type": "stream",
     "text": [
      "2550\n"
     ]
    }
   ],
   "source": [
    "#Sumar todos los números enteros pares del 0 al 100 usando el tercer parametro de la función range para obtener solo pares range(0,101,2)\n",
    "# y la funcion suma\n",
    "i=0\n",
    "suma=0\n",
    "while(i<=100):\n",
    "    if i%2==0:\n",
    "       \n",
    "        suma+=i\n",
    "    i+=1\n",
    "print(suma)\n"
   ]
  },
  {
   "cell_type": "code",
   "execution_count": 4,
   "metadata": {},
   "outputs": [
    {
     "name": "stdout",
     "output_type": "stream",
     "text": [
      "2550\n"
     ]
    }
   ],
   "source": [
    "suma=sum(list(range(0,101,2)))\n",
    "print(suma)"
   ]
  },
  {
   "cell_type": "code",
   "execution_count": 2,
   "metadata": {},
   "outputs": [
    {
     "name": "stdout",
     "output_type": "stream",
     "text": [
      "Cuantos números desea ingresar:3\n",
      "5\n",
      "6\n",
      "7\n",
      "6.0\n"
     ]
    }
   ],
   "source": [
    "a = float(input(\"Cuantos números desea ingresar:\"))\n",
    "i=0\n",
    "num2=0\n",
    "media=0\n",
    "while i<a:\n",
    "    num=float(input())\n",
    "    num2+=num\n",
    "    media=num2/a\n",
    "\n",
    "    i+=1\n",
    "print (media)"
   ]
  },
  {
   "cell_type": "code",
   "execution_count": 4,
   "metadata": {},
   "outputs": [
    {
     "name": "stdout",
     "output_type": "stream",
     "text": [
      "Cuantos números desea ingresar:3\n",
      "Ingresa los numeros:15\n",
      "Ingresa los numeros:15\n",
      "Ingresa los numeros:15\n",
      "la media es 15.0\n"
     ]
    }
   ],
   "source": [
    "range_num = int(input(\"Cuantos números desea ingresar:\"))\n",
    "suma=0\n",
    "for x in range(range_num):\n",
    "    suma +=float(input(\"Ingresa los numeros:\"))\n",
    "print (\"la media es\", suma/range_num)"
   ]
  },
  {
   "cell_type": "code",
   "execution_count": 15,
   "metadata": {},
   "outputs": [
    {
     "name": "stdout",
     "output_type": "stream",
     "text": [
      "Ingresa un número del 0 al 9: 6\n",
      "el numero 6  esta en la lista\n"
     ]
    }
   ],
   "source": [
    "#ingresar un número por teclado del 0 al 9 si no es correcto pedir el ingreso nuevamente y comprobar que se encuentra en \n",
    "#siguiente lista\n",
    "numeros=[1,3,6,9]\n",
    "while True:\n",
    "    valor=int(input(\"Ingresa un número del 0 al 9: \"))\n",
    "    if valor<0 or valor>9:\n",
    "        print(\"Vuelve a intentarlo\")\n",
    "    elif valor in numeros:\n",
    "        #verifica si el número existe dentro de la lista como el equals\n",
    "        print(\"el numero\",valor,\" esta en la lista\")\n",
    "        break\n",
    "    else:\n",
    "        print(\"el numero\",valor,\" no esta en la lista\")\n",
    "        break\n"
   ]
  },
  {
   "cell_type": "code",
   "execution_count": 32,
   "metadata": {},
   "outputs": [
    {
     "name": "stdout",
     "output_type": "stream",
     "text": [
      "[0, 1, 2, 3, 4, 5, 6, 7, 8, 9, 10]\n",
      "[-10, -9, -8, -7, -6, -5, -4, -3, -2, -1, 0]\n",
      "[0, 2, 4, 6, 8, 10, 12, 14, 16, 18, 20]\n",
      "[-21, -19, -17, -15, -13, -11, -9, -7, -5, -3, -1]\n",
      "[0, 5, 10, 15, 20, 25, 30, 35, 40, 45, 50]\n"
     ]
    }
   ],
   "source": [
    "#Usando la función range() mostrar las siguientes listas dinámicamente\n",
    "#todos los números del 0 al 100\n",
    "#todos los números del -10 al 0\n",
    "#todos los números pares del 0 al 20\n",
    "#todos los números impares del -20 al 0\n",
    "#todos los números multiplos de 5 de 0 al 50\n",
    "\n",
    "print(list(range(0,11)))\n",
    "print(list(range(-10,1)))\n",
    "print(list(range(0,21,2)))\n",
    "print(list(range(-21,0,2)))\n",
    "print(list(range(0,51,5)))"
   ]
  },
  {
   "cell_type": "code",
   "execution_count": 41,
   "metadata": {},
   "outputs": [
    {
     "data": {
      "text/plain": [
       "['h', 'o', 'l', 'a', ' ', 'u', 'n']"
      ]
     },
     "execution_count": 41,
     "metadata": {},
     "output_type": "execute_result"
    }
   ],
   "source": [
    "#dado dos listas generar una nueva con los elementos repetidos en cada lista pero a la vez no deben repetirse en la nueva lista\n",
    "lista1=['h','o','l','a', ' ', 'm','u','n','d','o']\n",
    "lista2=['h','o','l','a',' ','l','u','n','a']\n",
    "lista3=[]\n",
    "\n",
    "for i in lista1:\n",
    "    if i in lista2 and i not in lista3:\n",
    "        lista3.append(i)\n",
    "\n",
    "lista3"
   ]
  },
  {
   "cell_type": "code",
   "execution_count": null,
   "metadata": {},
   "outputs": [],
   "source": []
  }
 ],
 "metadata": {
  "kernelspec": {
   "display_name": "Python 3",
   "language": "python",
   "name": "python3"
  }
 },
 "nbformat": 4,
 "nbformat_minor": 4
}
