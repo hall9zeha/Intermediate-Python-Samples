{
 "cells": [
  {
   "cell_type": "code",
   "execution_count": 3,
   "metadata": {},
   "outputs": [
    {
     "name": "stdout",
     "output_type": "stream",
     "text": [
      "c vale 1\n",
      "c vale 2\n",
      "c vale 3\n",
      "c vale 4\n",
      "c vale 5\n",
      "c vale 6\n"
     ]
    }
   ],
   "source": [
    "c=0\n",
    "while c<=5:\n",
    "    c+=1\n",
    "    print(\"c vale\", c)"
   ]
  },
  {
   "cell_type": "code",
   "execution_count": 4,
   "metadata": {},
   "outputs": [
    {
     "name": "stdout",
     "output_type": "stream",
     "text": [
      "c vale 1\n",
      "c vale 2\n",
      "c vale 3\n",
      "c vale 4\n",
      "c vale 5\n",
      "c vale 6\n",
      "Se completo el bucle\n"
     ]
    }
   ],
   "source": [
    "c=0\n",
    "while c<=5:\n",
    "    c+=1\n",
    "    print(\"c vale\", c)\n",
    "else:\n",
    "    print(\"Se completo el bucle\")"
   ]
  },
  {
   "cell_type": "code",
   "execution_count": 13,
   "metadata": {},
   "outputs": [
    {
     "name": "stdout",
     "output_type": "stream",
     "text": [
      "c vale 1\n",
      "Rompemos el bucle cuando c vale 2\n"
     ]
    }
   ],
   "source": [
    "c=0\n",
    "while c<=5:\n",
    "    c+=1\n",
    "    if c==2:\n",
    "        print(\"Rompemos el bucle cuando c vale\",c)\n",
    "        break\n",
    "    print(\"c vale\", c)\n",
    "    \n",
    "else:\n",
    "    print(\"Se completo el bucle\")"
   ]
  },
  {
   "cell_type": "code",
   "execution_count": 15,
   "metadata": {},
   "outputs": [
    {
     "name": "stdout",
     "output_type": "stream",
     "text": [
      "c vale 1\n",
      "c vale 2\n",
      "c vale 3\n",
      "Continuamos la siguiente iteración saltandonos el 4 con continue\n",
      "c vale 5\n",
      "c vale 6\n",
      "Se completo el bucle\n"
     ]
    }
   ],
   "source": [
    "c=0\n",
    "while c<=5:\n",
    "    c+=1\n",
    "    if c==4:\n",
    "        print(\"Continuamos la siguiente iteración saltandonos el 4 con continue\")\n",
    "        continue\n",
    "    print(\"c vale\", c)\n",
    "    \n",
    "else:\n",
    "    print(\"Se completo el bucle\")"
   ]
  },
  {
   "cell_type": "code",
   "execution_count": 16,
   "metadata": {
    "scrolled": true
   },
   "outputs": [
    {
     "name": "stdout",
     "output_type": "stream",
     "text": [
      "Bienvenido\n",
      "    ¿Qué quieres hacer?\n",
      "    1. Saludar\n",
      "    2. Sumar dos números\n",
      "    3 Salir\n",
      "1\n",
      "Hola bienvenido a python\n",
      "Bienvenido\n",
      "    ¿Qué quieres hacer?\n",
      "    1. Saludar\n",
      "    2. Sumar dos números\n",
      "    3 Salir\n",
      "2\n",
      "ingresa el primer número5\n",
      "ingresa el segundo número4\n",
      "la suma de  5.0 y 4.0 es 9.0\n",
      "Bienvenido\n",
      "    ¿Qué quieres hacer?\n",
      "    1. Saludar\n",
      "    2. Sumar dos números\n",
      "    3 Salir\n",
      "3\n",
      "Fue todo un placer adios\n"
     ]
    }
   ],
   "source": [
    "#Ejemplo de menu interactivo con un bucle infinito\n",
    "\n",
    "while(True):\n",
    "    print(\"\"\"Bienvenido\n",
    "    ¿Qué quieres hacer?\n",
    "    1. Saludar\n",
    "    2. Sumar dos números\n",
    "    3 Salir\"\"\")\n",
    "    opcion=input()\n",
    "    if opcion=='1':\n",
    "        print(\"Hola bienvenido a python\")\n",
    "    elif opcion=='2':\n",
    "        a=float(input(\"ingresa el primer número: \"))\n",
    "        b=float(input(\"ingresa el segundo número: \"))\n",
    "        suma=a+b\n",
    "        print(\"la suma de \",a,\"y\",b,\"es\",suma)\n",
    "    elif opcion=='3':\n",
    "        print(\"Fue todo un placer adios\")\n",
    "        break\n",
    "    else:\n",
    "        print(\"Comando no reconocido\")\n",
    "    "
   ]
  },
  {
   "cell_type": "code",
   "execution_count": null,
   "metadata": {},
   "outputs": [],
   "source": []
  }
 ],
 "metadata": {
  "kernelspec": {
   "display_name": "Python 3",
   "language": "python",
   "name": "python3"
  },
  "language_info": {
   "codemirror_mode": {
    "name": "ipython",
    "version": 3
   },
   "file_extension": ".py",
   "mimetype": "text/x-python",
   "name": "python",
   "nbconvert_exporter": "python",
   "pygments_lexer": "ipython3",
   "version": "3.7.6"
  }
 },
 "nbformat": 4,
 "nbformat_minor": 4
}
