{
 "cells": [
  {
   "cell_type": "code",
   "execution_count": 7,
   "metadata": {},
   "outputs": [
    {
     "name": "stdout",
     "output_type": "stream",
     "text": [
      "ingresa el primer número: 4\n",
      "ingresa el segundo número: 5\n",
      "4 y 5 son iguales:  False\n",
      "4 y 5 son diferentes: True\n",
      "4 es mayor que  5 : False\n",
      "5 es mayor que 4 : True\n"
     ]
    }
   ],
   "source": [
    "# 1. programa que lea dos números por teclado y determine que\n",
    "#si los dos números son iguales\n",
    "#si los dos números son diferentes\n",
    "#si el primero es mayor que el segundo \n",
    "#si el segundo es mayor que el primero\n",
    "\n",
    "a=int(input(\"ingresa el primer número: \"))\n",
    "b=int(input(\"ingresa el segundo número: \"))\n",
    "print(a, \"y\", b ,\"son iguales: \", a==b)\n",
    "print(a, \"y\" , b , \"son diferentes:\",a!=b)\n",
    "print(a, \"es mayor que \", b, \":\",a>b)\n",
    "print(b, \"es mayor que\", a, \":\", a<b)"
   ]
  },
  {
   "cell_type": "code",
   "execution_count": null,
   "metadata": {},
   "outputs": [],
   "source": [
    "#2.usando operadores lógicos  Determina si una cadena ingresada por el usuario tiene una longitud mayor o igual a 3\n",
    "#y a su vez es menor que 10\n",
    "cadena=input(\"ingresa una cadena de texto: \")\n",
    "i=len(cadena)\n",
    "i>=3 and i<10"
   ]
  },
  {
   "cell_type": "code",
   "execution_count": 8,
   "metadata": {},
   "outputs": [
    {
     "name": "stdout",
     "output_type": "stream",
     "text": [
      "ingresa un número del 1 al 9: 5\n",
      "555555555\n"
     ]
    }
   ],
   "source": [
    "#3. programa usando operadores en asignación que compla lo siguiente\n",
    "#guarda en una variable el valor 12345679\n",
    "#lee otro número por pantalla entre el 1 y 9 asegurate que sea un número\n",
    "#multiplica el número ingresado por 9 en si mismo\n",
    "#multiplica la primera variable por el número ingresado en si mismo\n",
    "#muestra el valor de la primera variable por pantalla\n",
    "\n",
    "num_magic=12345679\n",
    "\n",
    "num_user=int(input(\"ingresa un número del 1 al 9: \"))\n",
    "   \n",
    "num_user*=9\n",
    "num_magic*=num_user\n",
    "print(num_magic)\n",
    "   "
   ]
  },
  {
   "cell_type": "code",
   "execution_count": null,
   "metadata": {},
   "outputs": [],
   "source": []
  }
 ],
 "metadata": {
  "kernelspec": {
   "display_name": "Python 3",
   "language": "python",
   "name": "python3"
  },
  "language_info": {
   "codemirror_mode": {
    "name": "ipython",
    "version": 3
   },
   "file_extension": ".py",
   "mimetype": "text/x-python",
   "name": "python",
   "nbconvert_exporter": "python",
   "pygments_lexer": "ipython3",
   "version": "3.7.6"
  }
 },
 "nbformat": 4,
 "nbformat_minor": 4
}
