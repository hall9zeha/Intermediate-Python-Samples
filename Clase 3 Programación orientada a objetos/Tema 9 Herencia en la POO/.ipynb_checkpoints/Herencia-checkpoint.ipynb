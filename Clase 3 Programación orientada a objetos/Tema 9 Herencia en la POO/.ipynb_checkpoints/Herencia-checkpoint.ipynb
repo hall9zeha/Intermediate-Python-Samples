{
 "cells": [
  {
   "cell_type": "code",
   "execution_count": 1,
   "metadata": {},
   "outputs": [],
   "source": [
    "class Producto:\n",
    "    def __init__(self, referencia, tipo, nombre,pvp, descripcion, productor=None, distribuidor=None, isbn=None,autor=None):\n",
    "        self.referencia=referencia\n",
    "        self.tipo=tipo\n",
    "        self.nombre=nombre\n",
    "        self.pvp=pvp\n",
    "        self.descripcion=descripcion\n",
    "        self.productor=productor\n",
    "        self.distribuidor=distribuidor\n",
    "        self.isbn=isbn\n",
    "        self.autor=autor\n",
    "    "
   ]
  },
  {
   "cell_type": "code",
   "execution_count": 4,
   "metadata": {
    "scrolled": true
   },
   "outputs": [
    {
     "name": "stdout",
     "output_type": "stream",
     "text": [
      "        Referencia\t 123\n",
      "        Nombre\t\t taza cuphead\n",
      "        Pvp\t\t 54\n",
      "        Descripción\t vaso de porcelana \n"
     ]
    }
   ],
   "source": [
    "#modificamos la estructura anterior para dividirla entre una superclase y subclases hijas, que heredarán algo en común de la primera \n",
    "\n",
    "class Producto:\n",
    "    def __init__(self, referencia, nombre,pvp, descripcion):\n",
    "        self.referencia=referencia\n",
    "        self.nombre=nombre\n",
    "        self.pvp=pvp\n",
    "        self.descripcion=descripcion\n",
    "    def __str__(self):\n",
    "        return \"\"\"\\\n",
    "        Referencia\\t {}\n",
    "        Nombre\\t\\t {}\n",
    "        Pvp\\t\\t {}\n",
    "        Descripción\\t {}\"\"\".format(self.referencia, self.nombre, self.pvp, self.descripcion)\n",
    "class Adorno(Producto):#para indicarle que hereda de la superclase Producto le ponemos entre paréntesis el nombre\n",
    "    pass\n",
    "a=Adorno(123,\"taza cuphead\", 54,\"vaso de porcelana \")\n",
    "print(a)"
   ]
  },
  {
   "cell_type": "code",
   "execution_count": 8,
   "metadata": {},
   "outputs": [
    {
     "name": "stdout",
     "output_type": "stream",
     "text": [
      "        Referencia\t 1234\n",
      "        Nombre\t\t Aceite de oliva\n",
      "        Pvp\t\t 20\n",
      "        Descripción\t aceite extra Virgen\n",
      "        Productor\t El olivar\n",
      "        Distribuidor\t Soap.SA\n"
     ]
    }
   ],
   "source": [
    "#la clase alimentos tendrá dos propiedades extra veremos como adaptarlas\n",
    "class Alimentos(Producto):\n",
    "    productor=\"\"\n",
    "    distribuidor=\"\"\n",
    "    \n",
    "    def __str__(self):\n",
    "        return \"\"\"\\\n",
    "        Referencia\\t {}\n",
    "        Nombre\\t\\t {}\n",
    "        Pvp\\t\\t {}\n",
    "        Descripción\\t {}\n",
    "        Productor\\t {}\n",
    "        Distribuidor\\t {}\"\"\".format(self.referencia, self.nombre, self.pvp, self.descripcion,self.productor,self.distribuidor)\n",
    "a=Alimentos(1234,\"Aceite de oliva\", 20,\"aceite extra Virgen\")\n",
    "a.productor=\"El olivar\"\n",
    "a.distribuidor=\"Soap.SA\"\n",
    "print(a)"
   ]
  },
  {
   "cell_type": "code",
   "execution_count": 11,
   "metadata": {},
   "outputs": [
    {
     "name": "stdout",
     "output_type": "stream",
     "text": [
      "        Referencia\t 1234\n",
      "        Nombre\t\t La sombra del viento\n",
      "        Pvp\t\t 20\n",
      "        Descripción\t Historia de misterio\n",
      "        Isbn\t 1234567dfg\n",
      "        Autor\t Carlos Ruiz Safón\n"
     ]
    }
   ],
   "source": [
    "class Libros(Producto):\n",
    "    isbn=\"\"\n",
    "    autor=\"\"\n",
    "    \n",
    "    def __str__(self):\n",
    "        return \"\"\"\\\n",
    "        Referencia\\t {}\n",
    "        Nombre\\t\\t {}\n",
    "        Pvp\\t\\t {}\n",
    "        Descripción\\t {}\n",
    "        Isbn\\t {}\n",
    "        Autor\\t {}\"\"\".format(self.referencia, self.nombre, self.pvp, self.descripcion,self.isbn,self.autor)\n",
    "l=Libros(1234,\"La sombra del viento\", 20,\"Historia de misterio\")\n",
    "l.isbn=\"1234567dfg\"\n",
    "l.autor=\"Carlos Ruiz Safón\"\n",
    "print(l)"
   ]
  },
  {
   "cell_type": "code",
   "execution_count": null,
   "metadata": {},
   "outputs": [],
   "source": []
  }
 ],
 "metadata": {
  "kernelspec": {
   "display_name": "Python 3",
   "language": "python",
   "name": "python3"
  },
  "language_info": {
   "codemirror_mode": {
    "name": "ipython",
    "version": 3
   },
   "file_extension": ".py",
   "mimetype": "text/x-python",
   "name": "python",
   "nbconvert_exporter": "python",
   "pygments_lexer": "ipython3",
   "version": "3.7.6"
  }
 },
 "nbformat": 4,
 "nbformat_minor": 4
}
