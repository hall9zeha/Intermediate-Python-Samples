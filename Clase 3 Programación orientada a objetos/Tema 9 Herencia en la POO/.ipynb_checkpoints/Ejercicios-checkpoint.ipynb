{
 "cells": [
  {
   "cell_type": "code",
   "execution_count": 1,
   "metadata": {},
   "outputs": [],
   "source": [
    "#Ejecicios :\n",
    "#Crear una superclase vehículo con tributor(color, ruedas), con dos subclases coche(velocidad, cilindrada) \n",
    "#y bicicleta (tipo(urbana/deportiva)), de coche derivarán una subclase camioneta (carga)y\n",
    "#de Bicicleta otra subclase motocicleta(velocidad,cilindrada)\n",
    "#\n",
    "#Experimentar\n",
    "#crear al menos un elemento en cada subclase y añadirlos a una lista llamada vehículos\n",
    "#crear funcion catalogar() recibirá la lista vehículos mostrando el nombre de su clase y atributo\n",
    "#modificar catalogar() para recibir un argumento optativo ruedas mostrando unicamente los de su tipo de ruedas que le pasemos \n",
    "#por el parámetro ruedas,también debe mostrar el mensaje \"se ha encontrado {} vehículos con  {}  ruedas\", unicamente si se \n",
    "#envía el argumento ruedas, ponla a prueba con 0,2,4 ruedas con valor.\n",
    "#puedes usar el atributo especial de la clase name de la siguiente forma para recuperar el nombre de la clase de un objeto\n",
    "\n",
    "#type(objeto).__name__"
   ]
  },
  {
   "cell_type": "code",
   "execution_count": 37,
   "metadata": {},
   "outputs": [
    {
     "name": "stdout",
     "output_type": "stream",
     "text": [
      "Coche color Azul, 4 ruedas450 Km, 1200 cc\n",
      "Camioneta color Gris, 4 ruedas100 Km, 1300 cc1500 carga\n",
      "Bicicleta color verde, 2 ruedastipo urbana\n",
      "Motocicleta color negro, 2 ruedastipo deportiva180 Km, 900 cc\n",
      "\n",
      "\n",
      "se encontraron 2 vehiculos con 4 ruedas\n",
      "vehículo Coche  tiene 4 ruedas\n",
      "vehículo Camioneta  tiene 4 ruedas\n"
     ]
    }
   ],
   "source": [
    "class Vehiculo:\n",
    "    def __init__(self, color, ruedas):\n",
    "        self.color=color\n",
    "        self.ruedas=ruedas\n",
    "        \n",
    "    def __str__(self):\n",
    "        return \"color {}, {} ruedas\".format(self.color,self.ruedas)\n",
    "class Coche(Vehiculo):\n",
    "    \n",
    "    def __init__(self, color, ruedas, velocidad, cilindrada):\n",
    "        super().__init__(color, ruedas)\n",
    "        self.velocidad=velocidad\n",
    "        self.cilindrada=cilindrada\n",
    "    def __str__(self):\n",
    "        return super().__str__() + \"{} Km, {} cc\".format(self.velocidad, self.cilindrada)\n",
    "class Camioneta(Coche):\n",
    "    def __init__(self,color, ruedas, velocidad, cilindrada,carga):\n",
    "        super().__init__(color, ruedas ,velocidad, cilindrada)\n",
    "        self.carga=carga\n",
    "    def __str__(self):\n",
    "        return super().__str__ ()+ \"{} carga\".format(self.carga)\n",
    "class Bicicleta(Vehiculo):\n",
    "    def __init__(self, color,ruedas,tipo):\n",
    "        super().__init__(color,ruedas)\n",
    "        self.tipo=tipo\n",
    "    def __str__(self):\n",
    "        return super().__str__() +\"tipo {}\".format(self.tipo)\n",
    "class Motocicleta(Bicicleta):\n",
    "    \n",
    "    def __init__(self,color, ruedas, tipo,velocidad, cilindrada ):\n",
    "        super().__init__(color,ruedas,tipo)\n",
    "        self.velocidad=velocidad\n",
    "        self.cilindrada=cilindrada\n",
    "    \n",
    "    def __str__(self):\n",
    "         return super().__str__() + \"{} Km, {} cc\".format(self.velocidad, self.cilindrada)\n",
    "\n",
    "vehiculosList=[Coche(\"Azul\",4,450,1200),\n",
    "              Camioneta(\"Gris\",4,100,1300,1500),\n",
    "              Bicicleta(\"verde\",2,\"urbana\"),\n",
    "              Motocicleta(\"negro\",2,\"deportiva\",180,900)]\n",
    "    \n",
    "def catalogar(lista):\n",
    "    for v in lista:\n",
    "        print(\"{} {}\".format(type(v).__name__,v))\n",
    "#\n",
    "def catalogarRuedas(lista, ruedas=None):\n",
    "    i=0\n",
    "    \n",
    "    for l in lista:\n",
    "        if l.ruedas==ruedas:\n",
    "            i+=1\n",
    "    print(\"se encontraron {} vehiculos con {} ruedas\".format(i,ruedas))\n",
    "    for v in lista:\n",
    "        if ruedas==None:\n",
    "            print(\"{} {}\".format(type(v).__name__,v))\n",
    "        elif v.ruedas == ruedas:\n",
    "            \n",
    "        \n",
    "            print(\"vehículo {}  tiene {} ruedas\".format(type(v).__name__,v.ruedas))\n",
    "             \n",
    "catalogar(vehiculosList)\n",
    "print(\"\\n\")\n",
    "catalogarRuedas(vehiculosList,4)"
   ]
  },
  {
   "cell_type": "code",
   "execution_count": null,
   "metadata": {},
   "outputs": [],
   "source": []
  },
  {
   "cell_type": "code",
   "execution_count": null,
   "metadata": {},
   "outputs": [],
   "source": []
  },
  {
   "cell_type": "code",
   "execution_count": null,
   "metadata": {},
   "outputs": [],
   "source": []
  }
 ],
 "metadata": {
  "kernelspec": {
   "display_name": "Python 3",
   "language": "python",
   "name": "python3"
  },
  "language_info": {
   "codemirror_mode": {
    "name": "ipython",
    "version": 3
   },
   "file_extension": ".py",
   "mimetype": "text/x-python",
   "name": "python",
   "nbconvert_exporter": "python",
   "pygments_lexer": "ipython3",
   "version": "3.7.6"
  }
 },
 "nbformat": 4,
 "nbformat_minor": 4
}
