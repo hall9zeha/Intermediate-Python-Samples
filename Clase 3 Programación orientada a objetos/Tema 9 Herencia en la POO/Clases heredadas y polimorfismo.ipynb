{
 "cells": [
  {
   "cell_type": "code",
   "execution_count": 1,
   "metadata": {},
   "outputs": [],
   "source": [
    "class Producto:\n",
    "    def __init__(self, referencia, nombre,pvp, descripcion):\n",
    "        self.referencia=referencia\n",
    "        self.nombre=nombre\n",
    "        self.pvp=pvp\n",
    "        self.descripcion=descripcion\n",
    "    def __str__(self):\n",
    "        return \"\"\"\\\n",
    "        Referencia\\t {}\n",
    "        Nombre\\t\\t {}\n",
    "        Pvp\\t\\t {}\n",
    "        Descripción\\t {}\"\"\".format(self.referencia, self.nombre, self.pvp, self.descripcion)\n",
    "class Adorno(Producto):#para indicarle que hereda de la superclase Producto le ponemos entre paréntesis el nombre\n",
    "    pass\n",
    "\n",
    "class Alimentos(Producto):\n",
    "    productor=\"\"\n",
    "    distribuidor=\"\"\n",
    "    \n",
    "    def __str__(self):\n",
    "        return \"\"\"\\\n",
    "        Referencia\\t {}\n",
    "        Nombre\\t\\t {}\n",
    "        Pvp\\t\\t {}\n",
    "        Descripción\\t {}\n",
    "        Productor\\t {}\n",
    "        Distribuidor\\t {}\"\"\".format(self.referencia, self.nombre, self.pvp, self.descripcion,self.productor,self.distribuidor)\n",
    "\n",
    "\n",
    "class Libros(Producto):\n",
    "    isbn=\"\"\n",
    "    autor=\"\"\n",
    "    \n",
    "    def __str__(self):\n",
    "        return \"\"\"\\\n",
    "        Referencia\\t {}\n",
    "        Nombre\\t\\t {}\n",
    "        Pvp\\t\\t {}\n",
    "        Descripción\\t {}\n",
    "        Isbn\\t {}\n",
    "        Autor\\t {}\"\"\".format(self.referencia, self.nombre, self.pvp, self.descripcion,self.isbn,self.autor)\n",
    "\n"
   ]
  },
  {
   "cell_type": "code",
   "execution_count": 2,
   "metadata": {},
   "outputs": [],
   "source": [
    "ad=Adorno(123,\"taza cuphead\", 54,\"vaso de porcelana \")\n",
    "\n",
    "al=Alimentos(1234,\"Aceite de oliva\", 20,\"aceite extra Virgen\")\n",
    "al.productor=\"El olivar\"\n",
    "al.distribuidor=\"Soap.SA\"\n",
    "\n",
    "l=Libros(1234,\"La sombra del viento\", 20,\"Historia de misterio\")\n",
    "l.isbn=\"1234567dfg\"\n",
    "l.autor=\"Carlos Ruiz Safón\""
   ]
  },
  {
   "cell_type": "code",
   "execution_count": 6,
   "metadata": {},
   "outputs": [],
   "source": [
    "#agregamos los elementos a una lista\n",
    "productos=[ad, al]\n",
    "productos.append(l)"
   ]
  },
  {
   "cell_type": "code",
   "execution_count": 7,
   "metadata": {},
   "outputs": [
    {
     "name": "stdout",
     "output_type": "stream",
     "text": [
      "        Referencia\t 123\n",
      "        Nombre\t\t taza cuphead\n",
      "        Pvp\t\t 54\n",
      "        Descripción\t vaso de porcelana  \n",
      "\n",
      "        Referencia\t 1234\n",
      "        Nombre\t\t Aceite de oliva\n",
      "        Pvp\t\t 20\n",
      "        Descripción\t aceite extra Virgen\n",
      "        Productor\t El olivar\n",
      "        Distribuidor\t Soap.SA \n",
      "\n",
      "        Referencia\t 1234\n",
      "        Nombre\t\t La sombra del viento\n",
      "        Pvp\t\t 20\n",
      "        Descripción\t Historia de misterio\n",
      "        Isbn\t 1234567dfg\n",
      "        Autor\t Carlos Ruiz Safón \n",
      "\n"
     ]
    }
   ],
   "source": [
    "for i in productos:\n",
    "    print(i,\"\\n\")"
   ]
  },
  {
   "cell_type": "code",
   "execution_count": 20,
   "metadata": {},
   "outputs": [
    {
     "name": "stdout",
     "output_type": "stream",
     "text": [
      "123 taza cuphead\n",
      "1234 Aceite de oliva\n",
      "1234 La sombra del viento\n"
     ]
    }
   ],
   "source": [
    "#podemos acceder a un objeto específico dentro de la iteración de la lista \n",
    "for p in productos:\n",
    "    print(p.referencia, p.nombre)"
   ]
  },
  {
   "cell_type": "code",
   "execution_count": 9,
   "metadata": {},
   "outputs": [
    {
     "ename": "AttributeError",
     "evalue": "'Adorno' object has no attribute 'autor'",
     "output_type": "error",
     "traceback": [
      "\u001b[1;31m---------------------------------------------------------------------------\u001b[0m",
      "\u001b[1;31mAttributeError\u001b[0m                            Traceback (most recent call last)",
      "\u001b[1;32m<ipython-input-9-5e56e976e0c2>\u001b[0m in \u001b[0;36m<module>\u001b[1;34m\u001b[0m\n\u001b[0;32m      1\u001b[0m \u001b[1;31m#pero si tratamos de acceder a una objeto que no esta heredados por todas la clases y solo en algunas, nos dará error\u001b[0m\u001b[1;33m\u001b[0m\u001b[1;33m\u001b[0m\u001b[1;33m\u001b[0m\u001b[0m\n\u001b[0;32m      2\u001b[0m \u001b[1;32mfor\u001b[0m \u001b[0mp\u001b[0m \u001b[1;32min\u001b[0m \u001b[0mproductos\u001b[0m\u001b[1;33m:\u001b[0m\u001b[1;33m\u001b[0m\u001b[1;33m\u001b[0m\u001b[0m\n\u001b[1;32m----> 3\u001b[1;33m     \u001b[0mprint\u001b[0m\u001b[1;33m(\u001b[0m\u001b[0mp\u001b[0m\u001b[1;33m.\u001b[0m\u001b[0mautor\u001b[0m\u001b[1;33m)\u001b[0m\u001b[1;33m\u001b[0m\u001b[1;33m\u001b[0m\u001b[0m\n\u001b[0m",
      "\u001b[1;31mAttributeError\u001b[0m: 'Adorno' object has no attribute 'autor'"
     ]
    }
   ],
   "source": [
    "#pero si tratamos de acceder a una objeto que no esta heredados por todas la clases y solo en algunas, nos dará error\n",
    "for p in productos:\n",
    "    print(p.autor)"
   ]
  },
  {
   "cell_type": "code",
   "execution_count": 8,
   "metadata": {},
   "outputs": [
    {
     "name": "stdout",
     "output_type": "stream",
     "text": [
      "123 taza cuphead\n",
      "1234 Aceite de oliva El olivar\n",
      "1234 La sombra del viento 1234567dfg\n"
     ]
    }
   ],
   "source": [
    "# usando la función isinstance() podemos comprobar si este atributo pertenece a tal objeto\n",
    "for p in productos:\n",
    "    if(isinstance(p,Adorno)):\n",
    "        print(p.referencia, p.nombre)\n",
    "    elif( isinstance(p,Alimentos)):\n",
    "        print(p.referencia, p.nombre, p.productor)\n",
    "    elif( isinstance(p,Libros)):\n",
    "        print(p.referencia, p.nombre, p.isbn)"
   ]
  },
  {
   "cell_type": "code",
   "execution_count": 11,
   "metadata": {},
   "outputs": [
    {
     "name": "stdout",
     "output_type": "stream",
     "text": [
      "sin rebajar\n",
      "        Referencia\t 1234\n",
      "        Nombre\t\t Aceite de oliva\n",
      "        Pvp\t\t 9.8\n",
      "        Descripción\t aceite extra Virgen\n",
      "        Productor\t El olivar\n",
      "        Distribuidor\t Soap.SA\n",
      "rebajado\n",
      "        Referencia\t 1234\n",
      "        Nombre\t\t Aceite de oliva\n",
      "        Pvp\t\t 6.860000000000001\n",
      "        Descripción\t aceite extra Virgen\n",
      "        Productor\t El olivar\n",
      "        Distribuidor\t Soap.SA\n"
     ]
    }
   ],
   "source": [
    "#método para rebajar precio a un producto\n",
    "print(\"sin rebajar\")\n",
    "print (al)\n",
    "print (\"rebajado\")\n",
    "def rebajar_precio(p,rebaja):\n",
    "    \"\"\"método que rebaja el precio de venta de un prod. por el parámetro ingresado\"\"\"\n",
    "    p.pvp=p.pvp-(p.pvp/100 * rebaja)\n",
    "    return p\n",
    "al_rebajado=rebajar_precio(al,30)#ya que los objetos se pasa por referencia el valor en el original también cambia, \n",
    "print(al_rebajado)"
   ]
  },
  {
   "cell_type": "code",
   "execution_count": 12,
   "metadata": {},
   "outputs": [
    {
     "name": "stdout",
     "output_type": "stream",
     "text": [
      "        Referencia\t 123\n",
      "        Nombre\t\t taza cuphead\n",
      "        Pvp\t\t 54\n",
      "        Descripción\t vaso de porcelana \n"
     ]
    }
   ],
   "source": [
    "#para copiar un objeto y evitar la sobreescritura por referencia\n",
    "# importamos la librería copy\n",
    "import copy\n",
    "\n",
    "copia_ad=copy.copy(ad)\n",
    "print (copia_ad)"
   ]
  },
  {
   "cell_type": "code",
   "execution_count": 15,
   "metadata": {},
   "outputs": [
    {
     "name": "stdout",
     "output_type": "stream",
     "text": [
      "registro copia modificado\n",
      "        Referencia\t 456\n",
      "        Nombre\t\t taza cuphead\n",
      "        Pvp\t\t 54\n",
      "        Descripción\t vaso de porcelana \n",
      "registro original\n",
      "        Referencia\t 123\n",
      "        Nombre\t\t taza cuphead\n",
      "        Pvp\t\t 54\n",
      "        Descripción\t vaso de porcelana \n"
     ]
    }
   ],
   "source": [
    "#ahora modificamos la copia y veremos si eso afecta al original, una vez hecha la copia\n",
    "copia_ad.referencia=456\n",
    "print(\"registro copia modificado\")\n",
    "print(copia_ad)\n",
    "print(\"registro original\")\n",
    "print(ad)#como vemos no ha cambiado"
   ]
  },
  {
   "cell_type": "code",
   "execution_count": null,
   "metadata": {},
   "outputs": [],
   "source": []
  }
 ],
 "metadata": {
  "kernelspec": {
   "display_name": "Python 3",
   "language": "python",
   "name": "python3"
  },
  "language_info": {
   "codemirror_mode": {
    "name": "ipython",
    "version": 3
   },
   "file_extension": ".py",
   "mimetype": "text/x-python",
   "name": "python",
   "nbconvert_exporter": "python",
   "pygments_lexer": "ipython3",
   "version": "3.7.6"
  }
 },
 "nbformat": 4,
 "nbformat_minor": 4
}
