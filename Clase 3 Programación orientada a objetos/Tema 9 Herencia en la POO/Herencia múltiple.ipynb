{
 "cells": [
  {
   "cell_type": "code",
   "execution_count": 9,
   "metadata": {},
   "outputs": [
    {
     "name": "stdout",
     "output_type": "stream",
     "text": [
      "clase tipo A\n",
      "hereda de la clase A\n",
      "hereda de la clase B\n",
      "método de clase C\n"
     ]
    }
   ],
   "source": [
    "#la posibilidad de heredar de multiples superclases, el problema está cuando una dos superclases tienen métodos similares\n",
    "#python da prioridad a la superclase declarada más a la izquierda\n",
    "class A:\n",
    "    def __init__(self):\n",
    "        print(\"clase tipo A\")\n",
    "    def a(self):\n",
    "        print(\"hereda de la clase A\")\n",
    "class B:\n",
    "    def __init__(self):\n",
    "        print(\"Clase tipo  B\")\n",
    "    def b(self):\n",
    "        print(\"hereda de la clase B\")\n",
    "class C(A,B):#hereda de ambas pero al tener los mismos métodos da prioridad a A que esta a la izquierda\n",
    "    \n",
    "    def c(self):\n",
    "        print(\"método de clase C\")\n",
    "C=C()\n",
    "C.a()\n",
    "C.b()\n",
    "C.c()\n"
   ]
  },
  {
   "cell_type": "code",
   "execution_count": null,
   "metadata": {},
   "outputs": [],
   "source": []
  },
  {
   "cell_type": "code",
   "execution_count": null,
   "metadata": {},
   "outputs": [],
   "source": []
  }
 ],
 "metadata": {
  "kernelspec": {
   "display_name": "Python 3",
   "language": "python",
   "name": "python3"
  },
  "language_info": {
   "codemirror_mode": {
    "name": "ipython",
    "version": 3
   },
   "file_extension": ".py",
   "mimetype": "text/x-python",
   "name": "python",
   "nbconvert_exporter": "python",
   "pygments_lexer": "ipython3",
   "version": "3.7.6"
  }
 },
 "nbformat": 4,
 "nbformat_minor": 4
}
