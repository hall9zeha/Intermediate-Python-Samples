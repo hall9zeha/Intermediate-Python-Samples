{
 "cells": [
  {
   "cell_type": "code",
   "execution_count": 1,
   "metadata": {},
   "outputs": [],
   "source": [
    "#1)Utilizando todo lo que sabes de cadenas, listas y sus métodos internos tranforma este texto y dale el siguiente formato\n",
    "#un dia en que el viento soplaba con fuerza#mira como se mueve aquella banderola -dijo un monje#lo que se mueve es el viento\n",
    "#-respondió el otro monje#ni las banderolas ni el viento, lo que se mueve son vuestras mentes -dijo el maestro\n",
    "\n",
    "#En este otro\n",
    "\n",
    "#Un día que el viento soplaba con fuerza...\n",
    "#-Mira como se mueve aquella banderola -dijo el monje.\n",
    "#-Lo que se mueve es el viento -respondió el otro monje.\n",
    "#-Ni las banderolas ni el viento, lo que se mueve son vuestras mentes -dijo el maestro.\n"
   ]
  },
  {
   "cell_type": "code",
   "execution_count": 2,
   "metadata": {},
   "outputs": [],
   "source": [
    "texto=\"un dia en que el viento soplaba con fuerza#mira como se mueve aquella banderola -dijo un monje#lo que se mueve es el viento -respondió el otro monje#ni las banderolas ni el viento, lo que se mueve son vuestras mentes -dijo el maestro\""
   ]
  },
  {
   "cell_type": "code",
   "execution_count": 37,
   "metadata": {},
   "outputs": [
    {
     "name": "stdout",
     "output_type": "stream",
     "text": [
      "Un dia en que el viento soplaba con fuerza...\n",
      "-Mira como se mueve aquella banderola -dijo un monje.\n",
      "-Lo que se mueve es el viento -respondió el otro monje.\n",
      "-Ni las banderolas ni el viento, lo que se mueve son vuestras mentes -dijo el maestro.\n"
     ]
    }
   ],
   "source": [
    "txt=texto\n",
    "lista=texto.split(\"#\")\n",
    "\n",
    "for i, linea in enumerate(lista):\n",
    "    lista[i]=linea.capitalize()\n",
    "    if i==0:\n",
    "        lista[i]=lista[i]+\"...\"\n",
    "        \n",
    "    else:\n",
    "        lista[i]=\"-\"+lista[i]+\".\"\n",
    "for i in lista:\n",
    "    print(i)\n",
    "    "
   ]
  },
  {
   "cell_type": "code",
   "execution_count": 165,
   "metadata": {},
   "outputs": [],
   "source": [
    "#Crea una función modificar que a partir de una lista de números realice las siguientes funciones\n",
    "#Borrar los elementos duplicados\n",
    "#Ordenar la lista de mayor a menor\n",
    "#Eliminar todos los números impares\n",
    "#Realizar una suma de todos los números que quedan\n",
    "#añadir como primer elemento de la lista la suma realizada\n",
    "#Devolver la lista modificada\n",
    "#finalmente, comprueba que la suma de todos los números a partir del segundo concuerda con el primer número de la lista, devolviendo u True\n",
    "\n",
    "lista=[29,-5,-12,17,5,24,5,12,23,16,12,5,-12,17]\n"
   ]
  },
  {
   "cell_type": "code",
   "execution_count": 180,
   "metadata": {},
   "outputs": [
    {
     "name": "stdout",
     "output_type": "stream",
     "text": [
      "True\n",
      "[52, 24, 17, 16, 12, -5, -12]\n"
     ]
    }
   ],
   "source": [
    "def modificar(lista):\n",
    "    \n",
    "    listaC=lista.copy()#agregamos una copia de la lista original\n",
    "    listacopia=list(set(listaC))#un conjunto elimina los duplicados\n",
    "    listacopia.sort(reverse=True)#ordenamos la lista de mayor a menor\n",
    "    \n",
    "    for i,l in enumerate(listacopia):\n",
    "        if l%2!=0:\n",
    "            del(listacopia[i])\n",
    "            \n",
    "    suma =sum(listacopia)\n",
    "    listacopia.insert(0,suma)\n",
    "    return listacopia\n",
    "\n",
    "nuevalista=modificar(lista)\n",
    "\n",
    "print(nuevalista[0]==sum(nuevalista[1:]) ) #comparamos la suma ingresada en la primera fila con la suma total de el resto de elementos\n",
    "print(nuevalista)\n",
    "            "
   ]
  },
  {
   "cell_type": "code",
   "execution_count": 181,
   "metadata": {},
   "outputs": [
    {
     "data": {
      "text/plain": [
       "[52, 24, 17, 16, 12, -5, -12]"
      ]
     },
     "execution_count": 181,
     "metadata": {},
     "output_type": "execute_result"
    }
   ],
   "source": [
    "modificar(lista)"
   ]
  },
  {
   "cell_type": "code",
   "execution_count": null,
   "metadata": {},
   "outputs": [],
   "source": []
  }
 ],
 "metadata": {
  "kernelspec": {
   "display_name": "Python 3",
   "language": "python",
   "name": "python3"
  },
  "language_info": {
   "codemirror_mode": {
    "name": "ipython",
    "version": 3
   },
   "file_extension": ".py",
   "mimetype": "text/x-python",
   "name": "python",
   "nbconvert_exporter": "python",
   "pygments_lexer": "ipython3",
   "version": "3.7.6"
  }
 },
 "nbformat": 4,
 "nbformat_minor": 4
}
