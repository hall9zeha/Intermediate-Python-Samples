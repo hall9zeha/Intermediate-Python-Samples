{
 "cells": [
  {
   "cell_type": "code",
   "execution_count": 3,
   "metadata": {},
   "outputs": [
    {
     "name": "stdout",
     "output_type": "stream",
     "text": [
      "se ha creado la película:  el padrino\n",
      "se ha borrado la pelicula el padrino\n",
      "se ha borrado la pelicula:  el padrino\n"
     ]
    }
   ],
   "source": [
    "class Pelicula:\n",
    "    def __init__(self,titulo,duracion,lanzamiento):#Como había dicho antes este es el constructor\n",
    "        self.titulo=titulo\n",
    "        self.duracion=duracion\n",
    "        self.lanzamiento=lanzamiento\n",
    "        print(\"se ha creado la película: \", self.titulo)\n",
    "    def __del__(self):#Destructor de las clases \n",
    "        print(\"se ha borrado la pelicula: \", self.titulo)\n",
    "        \n",
    "    def __str__(self)\n",
    "p=Pelicula(\"el padrino\",175,1972)\n",
    "del(p)    \n"
   ]
  },
  {
   "cell_type": "code",
   "execution_count": null,
   "metadata": {},
   "outputs": [],
   "source": []
  }
 ],
 "metadata": {
  "kernelspec": {
   "display_name": "Python 3",
   "language": "python",
   "name": "python3"
  },
  "language_info": {
   "codemirror_mode": {
    "name": "ipython",
    "version": 3
   },
   "file_extension": ".py",
   "mimetype": "text/x-python",
   "name": "python",
   "nbconvert_exporter": "python",
   "pygments_lexer": "ipython3",
   "version": "3.7.6"
  }
 },
 "nbformat": 4,
 "nbformat_minor": 4
}
