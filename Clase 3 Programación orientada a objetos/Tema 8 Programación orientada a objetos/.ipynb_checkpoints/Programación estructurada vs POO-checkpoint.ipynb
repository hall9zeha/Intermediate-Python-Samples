{
 "cells": [
  {
   "cell_type": "code",
   "execution_count": 5,
   "metadata": {},
   "outputs": [
    {
     "data": {
      "text/plain": [
       "[{'Nombre': 'Barry', 'Apellido': 'Zeha', 'DNI': '123456789'},\n",
       " {'Nombre': 'Martha', 'Apellido': 'Nielsen', 'DNI': '111111119'}]"
      ]
     },
     "execution_count": 5,
     "metadata": {},
     "output_type": "execute_result"
    }
   ],
   "source": [
    "\"\"\"Ejemplo programaciín estructurada\"\"\"\n",
    "\n",
    "clientes=[{'Nombre':'Barry','Apellido':'Zeha', 'DNI':'123456789'},\n",
    "            {'Nombre':'Martha','Apellido':'Nielsen','DNI':'111111119'}]\n",
    "clientes"
   ]
  },
  {
   "cell_type": "code",
   "execution_count": 7,
   "metadata": {},
   "outputs": [
    {
     "name": "stdout",
     "output_type": "stream",
     "text": [
      "Barry Zeha\n"
     ]
    }
   ],
   "source": [
    "def mostrar_clientes(clientes,dni):\n",
    "    for c in clientes:\n",
    "        if(dni==c['DNI']):\n",
    "            print(\"{} {}\".format(c['Nombre'],c['Apellido']))\n",
    "            return\n",
    "    print(\"cliente no encontrado\")\n",
    "mostrar_clientes(clientes,\"123456789\")"
   ]
  },
  {
   "cell_type": "code",
   "execution_count": null,
   "metadata": {},
   "outputs": [],
   "source": [
    "def borrar_clientes(clientes,dni):\n",
    "    for i, cli in enumerate(clientes):\n",
    "        if(dni==c['DNI']):\n",
    "            del(clientes[i])\n",
    "            print(str(cli),\"-> Borrado\")\n",
    "            return\n",
    "    print(\"Cliente no encontrado\")"
   ]
  },
  {
   "cell_type": "code",
   "execution_count": 15,
   "metadata": {},
   "outputs": [],
   "source": [
    "\"\"\"Ejemplo de programación orientada a objetos\"\"\"\n",
    "class Cliente:\n",
    "    \n",
    "    def __init__(self, nombre, apellidos, dni):#hay que poner los dos guiones bajos a cada lado si no no funciona\n",
    "        self.dni=dni\n",
    "        self.nombre=nombre\n",
    "        self.apellidos=apellidos\n",
    "        \n",
    "    def __str__(self):\n",
    "        return '{} {}'.format(self.nombre,self.apellidos)\n",
    "    \n",
    "class Empresa:\n",
    "    \n",
    "    def __init__(self, clientes=[]):\n",
    "        self.clientes=clientes\n",
    "    \n",
    "    def mostrar_clientes(self, dni=None):\n",
    "        for c in self.clientes:\n",
    "            if c.dni==dni:\n",
    "                print(c)\n",
    "                return\n",
    "        print(\"cliente no encontrado\")\n",
    "        \n",
    "    def borrar_cliente(self, dni=None):\n",
    "        for i, c in enumerate(self.clientes):\n",
    "            if c.dni==dni:\n",
    "                del(self.clientes[i])\n",
    "                print (str(c),\"-> Borrado\")\n",
    "                return\n",
    "        print(\"Cliente no encontrado\")\n",
    "        "
   ]
  },
  {
   "cell_type": "code",
   "execution_count": 16,
   "metadata": {},
   "outputs": [],
   "source": [
    "Barry=Cliente(nombre=\"Barry\",apellidos=\"Zeha\",dni=\"123456789\") #le pasamos los argumentos por parámetro al constructor"
   ]
  },
  {
   "cell_type": "code",
   "execution_count": 17,
   "metadata": {},
   "outputs": [
    {
     "data": {
      "text/plain": [
       "<__main__.Cliente at 0x2839612f308>"
      ]
     },
     "execution_count": 17,
     "metadata": {},
     "output_type": "execute_result"
    }
   ],
   "source": [
    "Barry"
   ]
  },
  {
   "cell_type": "code",
   "execution_count": 18,
   "metadata": {},
   "outputs": [],
   "source": [
    "Martha=Cliente(\"Martha\",\"Nielsen\",\"111111119\")#ahora solo pasamos los argumentos por orden en el constructor"
   ]
  },
  {
   "cell_type": "code",
   "execution_count": 21,
   "metadata": {},
   "outputs": [],
   "source": [
    "empresa=Empresa(clientes=[Barry,Martha])#le añadimos los objetos creados anteriormente"
   ]
  },
  {
   "cell_type": "code",
   "execution_count": 22,
   "metadata": {},
   "outputs": [
    {
     "name": "stdout",
     "output_type": "stream",
     "text": [
      "Martha Nielsen\n"
     ]
    }
   ],
   "source": [
    "empresa.mostrar_clientes(\"111111119\") #mostrando los clientes a través de la función contenida dentro de la clase "
   ]
  },
  {
   "cell_type": "code",
   "execution_count": null,
   "metadata": {},
   "outputs": [],
   "source": []
  }
 ],
 "metadata": {
  "kernelspec": {
   "display_name": "Python 3",
   "language": "python",
   "name": "python3"
  },
  "language_info": {
   "codemirror_mode": {
    "name": "ipython",
    "version": 3
   },
   "file_extension": ".py",
   "mimetype": "text/x-python",
   "name": "python",
   "nbconvert_exporter": "python",
   "pygments_lexer": "ipython3",
   "version": "3.7.6"
  }
 },
 "nbformat": 4,
 "nbformat_minor": 4
}
