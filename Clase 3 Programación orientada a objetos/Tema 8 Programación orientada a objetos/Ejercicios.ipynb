{
 "cells": [
  {
   "cell_type": "markdown",
   "metadata": {},
   "source": [
    "#Ejercicio\n",
    "* Crea una clase llamada Punto con sus dos coordenadas X y Y\n",
    "* Añade un método constructor para añadir coordenadas y si no reciben ninguna coordenada su valor sea cero\n",
    "* Sobreescribe el método String para mostrar el formato (X,Y) de las coordenadas ingresadas\n",
    "* Añade un método Cuadrante que indique a que cuadrante pertenece el punto o si es el origen\n",
    "* Añade otro método Vector que tome otro punto y calcule el valor resultante entre los dos puntos\n",
    "* Añade un método llamado Distancia, que tome otro punto y calcule la distancia entre los dos puntos y la muestre por pantalla\n",
    "* puedes usar la libreria math import math ejmplo math.sqrt(9)\n",
    "\n",
    "\n",
    "\n",
    "* Crea una clase llamada Rectángulo con dos puntos (inicial y final) que formaran la diagonal del rectángulo\n",
    "* Añade un método constructor para crear ambos puntos, si no se envían se crearan dos puntos en el origen por defecto\n",
    "* añade al rectángulo un método llamado Base que muestre la base\n",
    "* otro Altura que muestre la altura\n",
    "* y uno Area que muestre el área del rectángulo\n",
    "* usar la función abs() para saber el balor absoluto de un número"
   ]
  },
  {
   "cell_type": "code",
   "execution_count": 162,
   "metadata": {},
   "outputs": [],
   "source": [
    "import math\n",
    "class Punto:\n",
    "   \n",
    "    def __init__(self,x=0,y=0):\n",
    "        self.x=x\n",
    "        self.y=y\n",
    "         \n",
    "   \n",
    "            \n",
    "    def __str__(self):\n",
    "        return \"({},{})\".format(self.x,self.y)\n",
    "    \n",
    "   \n",
    "    def cuadrante(self):\n",
    "        if self.x> 0 and self.y>0:\n",
    "            print(\"{}\".format(self),\"cuadrante 1\")\n",
    "        elif self.y>0 and self.x<0:\n",
    "            print(\"{}\".format(self),\"cuadrante 2\")\n",
    "        elif self.x<0 and self.y<0:\n",
    "            print(\"{}\".format(self),\"cuadrante 3\")\n",
    "        elif self.y<0 and self.x>0:\n",
    "            print(\"{}\".format(self),\"cuadrante 4\")\n",
    "        elif self.y==0 and self.x==0:\n",
    "            print(\"{}\".format(self),\"origen\")\n",
    "    \n",
    "    def vector(self,p):\n",
    "        print(\"Vector entre({} y {} es({} {})\".format(self,p, p.x - self.x , p.y - self.y))\n",
    "    def distancia(self,p):\n",
    "        print(\"Distancia ({})\".format(math.sqrt((p.x-self.x)**2 + (p.y -self.y)**2)))\n",
    "            \n",
    "class Rectangulo:\n",
    "    \n",
    "    def __init__(self,pInicial=Punto(), pFinal=Punto()):\n",
    "        self.pInicial=pInicial\n",
    "        self.pFinal=pFinal\n",
    "    def base(self):\n",
    "        self.base=self.pInicial.x - self.pFinal.x\n",
    "        print(\"La base del rectángulo es {}\".format(abs(self.base)))\n",
    "    def altura(self):\n",
    "        self.altura=self.pInicial.y - self.pFinal.y\n",
    "        print(\"La altura del rectángulo es  {}\".format(abs(self.altura)))\n",
    "    def area(self):\n",
    "        self.base=self.pInicial.x - self.pFinal.x\n",
    "        self.altura=self.pInicial.y - self.pFinal.y\n",
    "        self.area=self.base * self.altura\n",
    "        print(\"El área del rectángulo es {}\".format(self.area))\n",
    "        "
   ]
  },
  {
   "cell_type": "code",
   "execution_count": 163,
   "metadata": {
    "scrolled": true
   },
   "outputs": [
    {
     "name": "stdout",
     "output_type": "stream",
     "text": [
      "(2,3) cuadrante 1\n",
      "(5,5) cuadrante 1\n",
      "(-3,-1) cuadrante 3\n",
      "(0,0) origen\n",
      "Vector entre((2,3) y (5,5) es(3 2)\n",
      "Vector entre((5,5) y (2,3) es(-3 -2)\n",
      "Distancia (3.605551275463989)\n",
      "Distancia (3.605551275463989)\n",
      "Distancia (3.605551275463989)\n",
      "Distancia (7.0710678118654755)\n",
      "Distancia (3.1622776601683795)\n",
      "La base del rectángulo es 3\n",
      "La altura del rectángulo es  2\n",
      "El área del rectángulo es 6\n"
     ]
    }
   ],
   "source": [
    "A=Punto(2,3)\n",
    "B=Punto(5,5)\n",
    "C=Punto(-3,-1)\n",
    "D=Punto(0,0)\n",
    "\n",
    "A.cuadrante()\n",
    "B.cuadrante()\n",
    "C.cuadrante()\n",
    "D.cuadrante()\n",
    "\n",
    "A.vector(B)\n",
    "B.vector(A)\n",
    "\n",
    "A.distancia(B)\n",
    "B.distancia(A)\n",
    "\n",
    "A.distancia(D)\n",
    "B.distancia(D)\n",
    "C.distancia(D)\n",
    "\n",
    "R=Rectangulo(A,B)\n",
    "R.base()\n",
    "R.altura()\n",
    "R.area()"
   ]
  },
  {
   "cell_type": "code",
   "execution_count": null,
   "metadata": {},
   "outputs": [],
   "source": []
  },
  {
   "cell_type": "code",
   "execution_count": null,
   "metadata": {},
   "outputs": [],
   "source": []
  }
 ],
 "metadata": {
  "kernelspec": {
   "display_name": "Python 3",
   "language": "python",
   "name": "python3"
  },
  "language_info": {
   "codemirror_mode": {
    "name": "ipython",
    "version": 3
   },
   "file_extension": ".py",
   "mimetype": "text/x-python",
   "name": "python",
   "nbconvert_exporter": "python",
   "pygments_lexer": "ipython3",
   "version": "3.7.6"
  }
 },
 "nbformat": 4,
 "nbformat_minor": 4
}
