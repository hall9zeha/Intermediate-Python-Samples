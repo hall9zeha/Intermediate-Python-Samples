{
 "cells": [
  {
   "cell_type": "code",
   "execution_count": 1,
   "metadata": {},
   "outputs": [],
   "source": [
    "#creando atributos dentro de una clase\n",
    "class Galleta:\n",
    "    pass\n",
    "\n",
    "galleta=Galleta"
   ]
  },
  {
   "cell_type": "code",
   "execution_count": 2,
   "metadata": {},
   "outputs": [],
   "source": [
    "galleta.color=\"marron\"#creamos el atributo y le asignamos un valor\n",
    "galleta.sabor=\"dulce\""
   ]
  },
  {
   "cell_type": "code",
   "execution_count": 3,
   "metadata": {
    "scrolled": true
   },
   "outputs": [
    {
     "name": "stdout",
     "output_type": "stream",
     "text": [
      "marron\n"
     ]
    }
   ],
   "source": [
    "#imprimimos el valor del atributo anterior\n",
    "print (galleta.color)"
   ]
  },
  {
   "cell_type": "code",
   "execution_count": 4,
   "metadata": {},
   "outputs": [
    {
     "data": {
      "text/plain": [
       "False"
      ]
     },
     "execution_count": 4,
     "metadata": {},
     "output_type": "execute_result"
    }
   ],
   "source": [
    "class Galleta:\n",
    "    chocolate=False\n",
    "g=Galleta\n",
    "g.chocolate"
   ]
  },
  {
   "cell_type": "code",
   "execution_count": null,
   "metadata": {},
   "outputs": [],
   "source": [
    "#explicando elementos de una clase en python\n",
    "class Galleta:\n",
    "    chocolate=False\n",
    "    def __init__(self):#init es una función interna que se ejecuta cada vez que creamos un objeto y  permite enviarle argumentos\n",
    "        #prácticamente es el contructor , los métodos especiales se escriben con dos barras bajas a cada lado\n",
    "        #la palabra self hace referencia al mismo contexto u objeto, al igual que this, requisito implícito en todos los métodos\n",
    "        print(\"se ha creado la clase Galleta\")\n",
    "    \n",
    "    "
   ]
  },
  {
   "cell_type": "code",
   "execution_count": 13,
   "metadata": {},
   "outputs": [
    {
     "name": "stdout",
     "output_type": "stream",
     "text": [
      "\n",
      "Si tiene chocolate\n"
     ]
    },
    {
     "data": {
      "text/plain": [
       "True"
      ]
     },
     "execution_count": 13,
     "metadata": {},
     "output_type": "execute_result"
    }
   ],
   "source": [
    "#utilización de self \n",
    "class Galleta:\n",
    "    chocolate=False\n",
    "    def __init__(self):\n",
    "        print()\n",
    "    def activar_choc(self):#si ejecutamos este método sin argumentos no afectará a la variable dentro de la clase, solo afecta a la variable dentro de su contexto\n",
    "        chocolate=True\n",
    "    def chocolatear(self):#Ahora con la palabra self del diremos que le asigne el valor a la variable dentro del contexto de la clase con el puntero this o self\n",
    "        self.chocolate=True\n",
    "    def tiene_chocolate(self):\n",
    "        if(self.chocolate):\n",
    "            print(\"Si tiene chocolate\")\n",
    "        else:\n",
    "            print(\"No tiene chocolate\")\n",
    "            \n",
    "g=Galleta()\n",
    "g.chocolatear()\n",
    "g.tiene_chocolate()\n",
    "g.chocolate\n"
   ]
  },
  {
   "cell_type": "code",
   "execution_count": 12,
   "metadata": {},
   "outputs": [
    {
     "data": {
      "text/plain": [
       "True"
      ]
     },
     "execution_count": 12,
     "metadata": {},
     "output_type": "execute_result"
    }
   ],
   "source": [
    "g.chocolatear()\n",
    "g.chocolate"
   ]
  },
  {
   "cell_type": "code",
   "execution_count": 20,
   "metadata": {},
   "outputs": [],
   "source": [
    "class Galleta:\n",
    "    chocolate=False\n",
    "    def __init__(self, sabor=None, forma=None):\n",
    "        self.sabor=sabor\n",
    "        self.forma=forma\n",
    "        if sabor is not None and forma is not None:\n",
    "            print(\"se acaba de crear una galleta {} y {}\".format(sabor,forma))\n",
    "    def activar_choc(self):#si ejecutamos este método sin argumentos no afectará a la variable dentro de la clase, solo afecta a la variable dentro de su contexto\n",
    "        chocolate=True\n",
    "    def chocolatear(self):#Ahora con la palabra self del diremos que le asigne el valor a la variable dentro del contexto de la clase con el puntero this o self\n",
    "        self.chocolate=True\n",
    "    def tiene_chocolate(self):\n",
    "        if(self.chocolate):\n",
    "            print(\"Si tiene chocolate\")\n",
    "        else:\n",
    "            print(\"No tiene chocolate\")\n",
    "            "
   ]
  },
  {
   "cell_type": "code",
   "execution_count": 17,
   "metadata": {},
   "outputs": [
    {
     "name": "stdout",
     "output_type": "stream",
     "text": [
      "se acaba de crear una galleta dulce y cuadrada\n"
     ]
    }
   ],
   "source": [
    "g=Galleta(\"dulce\",\"cuadrada\")\n"
   ]
  },
  {
   "cell_type": "code",
   "execution_count": 21,
   "metadata": {},
   "outputs": [],
   "source": [
    "g=Galleta()"
   ]
  },
  {
   "cell_type": "code",
   "execution_count": null,
   "metadata": {},
   "outputs": [],
   "source": []
  }
 ],
 "metadata": {
  "kernelspec": {
   "display_name": "Python 3",
   "language": "python",
   "name": "python3"
  },
  "language_info": {
   "codemirror_mode": {
    "name": "ipython",
    "version": 3
   },
   "file_extension": ".py",
   "mimetype": "text/x-python",
   "name": "python",
   "nbconvert_exporter": "python",
   "pygments_lexer": "ipython3",
   "version": "3.7.6"
  }
 },
 "nbformat": 4,
 "nbformat_minor": 4
}
