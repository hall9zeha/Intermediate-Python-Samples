{
 "cells": [
  {
   "cell_type": "code",
   "execution_count": 1,
   "metadata": {},
   "outputs": [],
   "source": [
    "class Pelicula:\n",
    "    def __init__(self,titulo,duracion,lanzamiento):#Como había dicho antes este es el constructor\n",
    "        self.titulo=titulo\n",
    "        self.duracion=duracion\n",
    "        self.lanzamiento=lanzamiento\n",
    "        print(\"se ha creado la película: \", self.titulo)\n",
    "    def __str__(self):#sobreescribir el toString para retornar una cadena legible y no referencia al la clase id\n",
    "        return \"{} lanzado en {} duracion {}\".format(self.titulo, self.lanzamiento,self.duracion)"
   ]
  },
  {
   "cell_type": "code",
   "execution_count": 2,
   "metadata": {},
   "outputs": [],
   "source": [
    "class Catalogo:\n",
    "    peliculas=[]\n",
    "    \n",
    "    def __init__(self, peliculas=[]):\n",
    "        self.peliculas=peliculas\n",
    "    def agregar(self, p):\n",
    "        self.peliculas.append(p)\n",
    "    def mostrar(self):\n",
    "        for i in self.peliculas:\n",
    "            print(i)\n",
    "            "
   ]
  },
  {
   "cell_type": "code",
   "execution_count": 3,
   "metadata": {},
   "outputs": [
    {
     "name": "stdout",
     "output_type": "stream",
     "text": [
      "se ha creado la película:  El padrino\n"
     ]
    }
   ],
   "source": [
    "p=Pelicula(\"El padrino\",175,1972)\n",
    "c=Catalogo([p])"
   ]
  },
  {
   "cell_type": "code",
   "execution_count": 4,
   "metadata": {},
   "outputs": [
    {
     "name": "stdout",
     "output_type": "stream",
     "text": [
      "El padrino lanzado en 1972 duracion 175\n"
     ]
    }
   ],
   "source": [
    "c.mostrar()"
   ]
  },
  {
   "cell_type": "code",
   "execution_count": 6,
   "metadata": {},
   "outputs": [
    {
     "name": "stdout",
     "output_type": "stream",
     "text": [
      "se ha creado la película:  El padrino 2\n"
     ]
    }
   ],
   "source": [
    "c.agregar(Pelicula(\"El padrino 2\",175,1974))"
   ]
  },
  {
   "cell_type": "code",
   "execution_count": 7,
   "metadata": {},
   "outputs": [
    {
     "name": "stdout",
     "output_type": "stream",
     "text": [
      "El padrino lanzado en 1972 duracion 175\n",
      "El padrino 2 lanzado en 1974 duracion 175\n"
     ]
    }
   ],
   "source": [
    "c.mostrar()"
   ]
  },
  {
   "cell_type": "code",
   "execution_count": null,
   "metadata": {},
   "outputs": [],
   "source": []
  }
 ],
 "metadata": {
  "kernelspec": {
   "display_name": "Python 3",
   "language": "python",
   "name": "python3"
  },
  "language_info": {
   "codemirror_mode": {
    "name": "ipython",
    "version": 3
   },
   "file_extension": ".py",
   "mimetype": "text/x-python",
   "name": "python",
   "nbconvert_exporter": "python",
   "pygments_lexer": "ipython3",
   "version": "3.7.6"
  }
 },
 "nbformat": 4,
 "nbformat_minor": 4
}
