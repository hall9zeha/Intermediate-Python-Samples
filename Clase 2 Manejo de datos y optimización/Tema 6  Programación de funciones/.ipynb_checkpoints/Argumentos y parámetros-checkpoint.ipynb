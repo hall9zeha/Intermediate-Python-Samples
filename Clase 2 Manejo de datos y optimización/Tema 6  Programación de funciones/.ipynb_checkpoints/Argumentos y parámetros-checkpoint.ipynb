{
 "cells": [
  {
   "cell_type": "code",
   "execution_count": 1,
   "metadata": {},
   "outputs": [
    {
     "data": {
      "text/plain": [
       "1"
      ]
     },
     "execution_count": 1,
     "metadata": {},
     "output_type": "execute_result"
    }
   ],
   "source": [
    "#función con parámetros y enviándole argumentos para los parámetros\n",
    "def resta(a,b):\n",
    "    return a-b\n",
    "resta(5,4)\n"
   ]
  },
  {
   "cell_type": "code",
   "execution_count": 2,
   "metadata": {},
   "outputs": [
    {
     "data": {
      "text/plain": [
       "1"
      ]
     },
     "execution_count": 2,
     "metadata": {},
     "output_type": "execute_result"
    }
   ],
   "source": [
    "resta(b=4,a=5)#asignándo los argumentos al parámetro por nombre"
   ]
  },
  {
   "cell_type": "code",
   "execution_count": 3,
   "metadata": {},
   "outputs": [
    {
     "name": "stdout",
     "output_type": "stream",
     "text": [
      "no has pasado los parámetros correctos\n"
     ]
    }
   ],
   "source": [
    "#asignándo valores por defecto a los parámetros de la función para evitar mal funcionamiento de la misma\n",
    "def restaDefault(a=None,b=None):\n",
    "    if a==None or b==None:\n",
    "        print(\"no has pasado los parámetros correctos\")\n",
    "        return\n",
    "    return a-b\n",
    "restaDefault()"
   ]
  },
  {
   "cell_type": "code",
   "execution_count": null,
   "metadata": {},
   "outputs": [],
   "source": []
  }
 ],
 "metadata": {
  "kernelspec": {
   "display_name": "Python 3",
   "language": "python",
   "name": "python3"
  },
  "language_info": {
   "codemirror_mode": {
    "name": "ipython",
    "version": 3
   },
   "file_extension": ".py",
   "mimetype": "text/x-python",
   "name": "python",
   "nbconvert_exporter": "python",
   "pygments_lexer": "ipython3",
   "version": "3.7.6"
  }
 },
 "nbformat": 4,
 "nbformat_minor": 4
}
