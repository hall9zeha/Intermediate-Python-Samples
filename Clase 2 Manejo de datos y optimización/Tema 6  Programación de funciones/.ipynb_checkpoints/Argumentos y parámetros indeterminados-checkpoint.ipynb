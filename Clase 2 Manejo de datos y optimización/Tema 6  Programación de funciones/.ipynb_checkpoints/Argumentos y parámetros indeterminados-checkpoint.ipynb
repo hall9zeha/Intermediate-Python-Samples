{
 "cells": [
  {
   "cell_type": "code",
   "execution_count": 1,
   "metadata": {},
   "outputs": [
    {
     "name": "stdout",
     "output_type": "stream",
     "text": [
      "32\n",
      "Hola barry\n",
      "[1, 2, 3]\n"
     ]
    }
   ],
   "source": [
    "#si queremos pasar una serie de parámetros indeterminados, todos  juntos usamos *args en el parámetro , nos devolverá una tupla\n",
    "#que será inmutable \n",
    "def parametros_indeterminados(*args):\n",
    "    for arg in args:\n",
    "        print(arg)\n",
    "parametros_indeterminados(32, \"Hola barry\", [1,2,3])"
   ]
  },
  {
   "cell_type": "code",
   "execution_count": 2,
   "metadata": {},
   "outputs": [
    {
     "name": "stdout",
     "output_type": "stream",
     "text": [
      "{'n': 32, 'c': 'Hola barry', 'l': [1, 2, 3]}\n"
     ]
    }
   ],
   "source": [
    "#crear una función de parámetros indeterminados que nos devuelva un diccionario **kwargs \"k\" de key y \"w\" de palabra o valor\n",
    "def indeterminados_nombre(**kwargs):\n",
    "    print(kwargs)\n",
    "indeterminados_nombre(n=32,c=\"Hola barry\",l=[1,2,3])#nos devolverá una estructura de diccionario, con sus llaves y su lavor\n"
   ]
  },
  {
   "cell_type": "code",
   "execution_count": 3,
   "metadata": {},
   "outputs": [
    {
     "name": "stdout",
     "output_type": "stream",
     "text": [
      "n\n",
      "c\n",
      "l\n"
     ]
    }
   ],
   "source": [
    "def indeterminados_nombre(**kwargs):\n",
    "    for kwarg in kwargs:\n",
    "        print(kwarg)#nos mostrará solo las claves\n",
    "indeterminados_nombre(n=32,c=\"Hola barry\",l=[1,2,3])"
   ]
  },
  {
   "cell_type": "code",
   "execution_count": 5,
   "metadata": {},
   "outputs": [
    {
     "name": "stdout",
     "output_type": "stream",
     "text": [
      "n 32\n",
      "c Hola barry\n",
      "l [1, 2, 3]\n"
     ]
    }
   ],
   "source": [
    "def indeterminados_nombre(**kwargs):\n",
    "    for kwarg in kwargs:\n",
    "        print(kwarg,kwargs[kwarg])#ahora clave y valor\n",
    "        \n",
    "indeterminados_nombre(n=32,c=\"Hola barry\",l=[1,2,3])"
   ]
  },
  {
   "cell_type": "code",
   "execution_count": 9,
   "metadata": {},
   "outputs": [
    {
     "name": "stdout",
     "output_type": "stream",
     "text": [
      "la sumatoria de los indeterminados es: 351.2\n",
      "n Liara\n",
      "e 32\n"
     ]
    }
   ],
   "source": [
    "def super_funcion(*args,**kwargs):\n",
    "    suma=0\n",
    "    for arg in args:\n",
    "        suma+=arg\n",
    "    print(\"la sumatoria de los indeterminados es:\",suma)\n",
    "    for kwarg in kwargs:\n",
    "        print(kwarg,kwargs[kwarg])\n",
    "super_funcion(1,12,5,32,1.2,300,n=\"Liara\",e=32)"
   ]
  },
  {
   "cell_type": "code",
   "execution_count": null,
   "metadata": {},
   "outputs": [],
   "source": []
  }
 ],
 "metadata": {
  "kernelspec": {
   "display_name": "Python 3",
   "language": "python",
   "name": "python3"
  },
  "language_info": {
   "codemirror_mode": {
    "name": "ipython",
    "version": 3
   },
   "file_extension": ".py",
   "mimetype": "text/x-python",
   "name": "python",
   "nbconvert_exporter": "python",
   "pygments_lexer": "ipython3",
   "version": "3.7.6"
  }
 },
 "nbformat": 4,
 "nbformat_minor": 4
}
