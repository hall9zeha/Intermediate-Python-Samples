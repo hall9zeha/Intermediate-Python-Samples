{
 "cells": [
  {
   "cell_type": "code",
   "execution_count": 2,
   "metadata": {},
   "outputs": [
    {
     "name": "stdout",
     "output_type": "stream",
     "text": [
      "20\n"
     ]
    },
    {
     "data": {
      "text/plain": [
       "10"
      ]
     },
     "execution_count": 2,
     "metadata": {},
     "output_type": "execute_result"
    }
   ],
   "source": [
    "#variable o tipo simple de dato se pasa por valor no hace una referencia al dato original\n",
    "#ejemplo \n",
    "def doblar_numero(numero):\n",
    "    numero*=2\n",
    "    print(numero)\n",
    "n=10\n",
    "doblar_numero(n)\n",
    "n#n sigue valiento 10 solamente su valor ha sido utilizado por la función, más no se modifico el registro original "
   ]
  },
  {
   "cell_type": "code",
   "execution_count": 3,
   "metadata": {},
   "outputs": [
    {
     "data": {
      "text/plain": [
       "[20, 40, 60]"
      ]
     },
     "execution_count": 3,
     "metadata": {},
     "output_type": "execute_result"
    }
   ],
   "source": [
    "#a diferencia las listas se pasan por referencia los datos manipulados de una lista desde otro lugar, se reflejan en la \n",
    "#coleccion de datos original ya que estan enlazadas o referenciadas\n",
    "def doblar_lista(numeros):\n",
    "    for i,list in enumerate(numeros):\n",
    "        numeros[i]*=2\n",
    "lista=[10,20,30]\n",
    "doblar_lista(lista)\n",
    "lista#la operación realizada dentro de la función afectó a la lista externa"
   ]
  },
  {
   "cell_type": "code",
   "execution_count": 4,
   "metadata": {},
   "outputs": [
    {
     "name": "stdout",
     "output_type": "stream",
     "text": [
      "20\n"
     ]
    }
   ],
   "source": [
    "#podemos usar trucos para devolver el valor en la variable que no admite referencia\n",
    "n=doblar_numero(n)#devolviendo el resultado y sobreescribiendo la variable con el nuevo resultado\n",
    "n"
   ]
  },
  {
   "cell_type": "code",
   "execution_count": 6,
   "metadata": {},
   "outputs": [
    {
     "data": {
      "text/plain": [
       "[10, 20, 30]"
      ]
     },
     "execution_count": 6,
     "metadata": {},
     "output_type": "execute_result"
    }
   ],
   "source": [
    "#en las listas para evitar modificar la lista original haremos una copia de la misma y así la primera estará sin mácula\n",
    "lista=[10,20,30]\n",
    "doblar_lista(lista[:])#esta lista que enviamos como parámetro será una copia de la principal\n",
    "lista"
   ]
  },
  {
   "cell_type": "code",
   "execution_count": null,
   "metadata": {},
   "outputs": [],
   "source": []
  }
 ],
 "metadata": {
  "kernelspec": {
   "display_name": "Python 3",
   "language": "python",
   "name": "python3"
  },
  "language_info": {
   "codemirror_mode": {
    "name": "ipython",
    "version": 3
   },
   "file_extension": ".py",
   "mimetype": "text/x-python",
   "name": "python",
   "nbconvert_exporter": "python",
   "pygments_lexer": "ipython3",
   "version": "3.7.6"
  }
 },
 "nbformat": 4,
 "nbformat_minor": 4
}
