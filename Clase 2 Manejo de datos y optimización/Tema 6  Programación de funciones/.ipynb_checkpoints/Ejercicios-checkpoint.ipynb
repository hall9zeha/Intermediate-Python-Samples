{
 "cells": [
  {
   "cell_type": "code",
   "execution_count": 1,
   "metadata": {},
   "outputs": [
    {
     "data": {
      "text/plain": [
       "150"
      ]
     },
     "execution_count": 1,
     "metadata": {},
     "output_type": "execute_result"
    }
   ],
   "source": [
    "#Todo con funciones\n",
    "#Calcula la base de un rectángulo de 15 de base por 10 de altura\n",
    "def area_triangulo(b,a):\n",
    "    area=0\n",
    "    area=b*a\n",
    "    return area\n",
    "area_triangulo(15,10)"
   ]
  },
  {
   "cell_type": "code",
   "execution_count": 3,
   "metadata": {},
   "outputs": [
    {
     "data": {
      "text/plain": [
       "78.53981633974483"
      ]
     },
     "execution_count": 3,
     "metadata": {},
     "output_type": "execute_result"
    }
   ],
   "source": [
    "#realiza la función área del círculo, calcula un area de un círculo de 5 de ancho\n",
    "import math\n",
    "def area_circulo(r):\n",
    "    return r**2*math.pi\n",
    "area_circulo(5)"
   ]
  },
  {
   "cell_type": "code",
   "execution_count": 7,
   "metadata": {},
   "outputs": [
    {
     "data": {
      "text/plain": [
       "0"
      ]
     },
     "execution_count": 7,
     "metadata": {},
     "output_type": "execute_result"
    }
   ],
   "source": [
    "#realiza una función que devuelva 1 si el primer número es > que el segundo y -1 si el primero es menor que el segundo, 0 si los\n",
    "#dos números son iguales, pruebalos con 5 y 10 , 10 y 5 , 5 y 5\n",
    "\n",
    "def dos_numeros(a,b):\n",
    "    if a>b:\n",
    "        return 1\n",
    "    elif a<b:\n",
    "        return -1\n",
    "    else:\n",
    "        return 0\n",
    "dos_numeros(5,5)"
   ]
  },
  {
   "cell_type": "code",
   "execution_count": 9,
   "metadata": {},
   "outputs": [
    {
     "data": {
      "text/plain": [
       "6.0"
      ]
     },
     "execution_count": 9,
     "metadata": {},
     "output_type": "execute_result"
    }
   ],
   "source": [
    "#realiza una función que acepte dos números y devuelva el intermedio, el intermedio entendido como la suma de los dos\n",
    "#números divididos entre 2\n",
    "\n",
    "def intermedio(a,b):\n",
    "    return (a+b)/2\n",
    "intermedio(-12,24)"
   ]
  },
  {
   "cell_type": "code",
   "execution_count": 10,
   "metadata": {},
   "outputs": [
    {
     "data": {
      "text/plain": [
       "10"
      ]
     },
     "execution_count": 10,
     "metadata": {},
     "output_type": "execute_result"
    }
   ],
   "source": [
    "#Realiza una función recortar() que reciba tres parámetros. El primero es el número a recortar, el segundo es el límite inferior\n",
    "#el tercero es el límite superior. la función tendrá que cumplir lo siguiente.\n",
    "#devolver el límite inferior si el número es menor que este\n",
    "#devolver el límite superior si el número es mayor que este\n",
    "#devolver el número sin cambios si no se supera ningún límite\n",
    "def recortar(num, mini,maxi):\n",
    "    if num<mini:\n",
    "        return mini\n",
    "    elif num>maxi:\n",
    "        return maxi\n",
    "    else:\n",
    "        return num\n",
    "recortar(15,0,10)"
   ]
  },
  {
   "cell_type": "code",
   "execution_count": 13,
   "metadata": {},
   "outputs": [
    {
     "name": "stdout",
     "output_type": "stream",
     "text": [
      "[2, 6]\n",
      "[1, 5, 7]\n"
     ]
    }
   ],
   "source": [
    "#hacer una función que tome una lista de números y los separe en dos listas ordenadas de pares e impares\n",
    "lista=[6,5,2,1,7]\n",
    "def separar(lista):\n",
    "    \n",
    "    pares=[]\n",
    "    impares=[]\n",
    "    for i in lista:\n",
    "        if i%2==0:\n",
    "            pares.append(i)\n",
    "        else:\n",
    "            impares.append(i)\n",
    "    pares.sort()\n",
    "    impares.sort()\n",
    "    return pares, impares\n",
    "pares, impares=separar(lista)\n",
    "print(pares)\n",
    "print(impares)"
   ]
  },
  {
   "cell_type": "code",
   "execution_count": null,
   "metadata": {},
   "outputs": [],
   "source": []
  }
 ],
 "metadata": {
  "kernelspec": {
   "display_name": "Python 3",
   "language": "python",
   "name": "python3"
  },
  "language_info": {
   "codemirror_mode": {
    "name": "ipython",
    "version": 3
   },
   "file_extension": ".py",
   "mimetype": "text/x-python",
   "name": "python",
   "nbconvert_exporter": "python",
   "pygments_lexer": "ipython3",
   "version": "3.7.6"
  }
 },
 "nbformat": 4,
 "nbformat_minor": 4
}
