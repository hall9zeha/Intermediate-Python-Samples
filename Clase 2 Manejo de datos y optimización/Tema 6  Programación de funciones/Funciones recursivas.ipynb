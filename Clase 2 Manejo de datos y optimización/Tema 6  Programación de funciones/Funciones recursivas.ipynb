{
 "cells": [
  {
   "cell_type": "code",
   "execution_count": 1,
   "metadata": {},
   "outputs": [
    {
     "name": "stdout",
     "output_type": "stream",
     "text": [
      "9\n",
      "8\n",
      "7\n",
      "6\n",
      "5\n",
      "4\n",
      "3\n",
      "2\n",
      "1\n",
      "final de la iteracion\n"
     ]
    }
   ],
   "source": [
    "#ejemplo de función recursiva\n",
    "def cuenta_regresiva(num):\n",
    "    num -=1\n",
    "    if num>0:\n",
    "        print(num)\n",
    "        cuenta_regresiva(num)\n",
    "    else:\n",
    "        print(\"final de la iteracion\")\n",
    "cuenta_regresiva(10)"
   ]
  },
  {
   "cell_type": "code",
   "execution_count": 3,
   "metadata": {},
   "outputs": [
    {
     "name": "stdout",
     "output_type": "stream",
     "text": [
      "valor inicial 5\n",
      "valor inicial 4\n",
      "valor inicial 3\n",
      "valor inicial 2\n",
      "valor inicial 1\n",
      "Valor final 1\n",
      "Valor final 2\n",
      "Valor final 6\n",
      "Valor final 24\n",
      "Valor final 120\n"
     ]
    },
    {
     "data": {
      "text/plain": [
       "120"
      ]
     },
     "execution_count": 3,
     "metadata": {},
     "output_type": "execute_result"
    }
   ],
   "source": [
    "#factorial de un número usando recursividad\n",
    "def factorial(num):\n",
    "    print(\"valor inicial\",num)\n",
    "    if num>1:\n",
    "        num=num*factorial(num-1)\n",
    "    print(\"Valor final\",num)\n",
    "    return num\n",
    "\n",
    "factorial(5)"
   ]
  },
  {
   "cell_type": "code",
   "execution_count": null,
   "metadata": {},
   "outputs": [],
   "source": []
  }
 ],
 "metadata": {
  "kernelspec": {
   "display_name": "Python 3",
   "language": "python",
   "name": "python3"
  },
  "language_info": {
   "codemirror_mode": {
    "name": "ipython",
    "version": 3
   },
   "file_extension": ".py",
   "mimetype": "text/x-python",
   "name": "python",
   "nbconvert_exporter": "python",
   "pygments_lexer": "ipython3",
   "version": "3.7.6"
  }
 },
 "nbformat": 4,
 "nbformat_minor": 4
}
