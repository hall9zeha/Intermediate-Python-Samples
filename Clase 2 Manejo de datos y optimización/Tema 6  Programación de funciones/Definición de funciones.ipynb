{
 "cells": [
  {
   "cell_type": "code",
   "execution_count": 1,
   "metadata": {},
   "outputs": [
    {
     "name": "stdout",
     "output_type": "stream",
     "text": [
      "Hola Barry \n"
     ]
    }
   ],
   "source": [
    "#recordando las funciones\n",
    "def saludo():\n",
    "    print (\"Hola Barry \")\n",
    "saludo()\n"
   ]
  },
  {
   "cell_type": "code",
   "execution_count": 6,
   "metadata": {},
   "outputs": [
    {
     "name": "stdout",
     "output_type": "stream",
     "text": [
      "0 X 5 = 0\n",
      "1 X 5 = 5\n",
      "2 X 5 = 10\n",
      "3 X 5 = 15\n",
      "4 X 5 = 20\n",
      "5 X 5 = 25\n",
      "6 X 5 = 30\n",
      "7 X 5 = 35\n",
      "8 X 5 = 40\n",
      "9 X 5 = 45\n",
      "10 X 5 = 50\n",
      "11 X 5 = 55\n",
      "12 X 5 = 60\n",
      "0X5=0\n",
      "1X5=5\n",
      "2X5=10\n",
      "3X5=15\n",
      "4X5=20\n",
      "5X5=25\n",
      "6X5=30\n",
      "7X5=35\n",
      "8X5=40\n",
      "9X5=45\n",
      "10X5=50\n",
      "11X5=55\n",
      "12X5=60\n"
     ]
    }
   ],
   "source": [
    "#función de tabla de multiplicar\n",
    "def tabla_multiplicar():\n",
    "    for i in range(13):\n",
    "        print(i, \"X\", 5,\"=\",i*5 )\n",
    "tabla_multiplicar()\n",
    "\n",
    "#otra forma utilizando format()\n",
    "def tabla_multiplicar_format():\n",
    "    for i in range(13):\n",
    "        print(\"{}X{}={}\".format(i,5,i*5))\n",
    "tabla_multiplicar_format()"
   ]
  },
  {
   "cell_type": "code",
   "execution_count": 8,
   "metadata": {},
   "outputs": [
    {
     "name": "stdout",
     "output_type": "stream",
     "text": [
      "10\n",
      "15\n",
      "5\n",
      "5\n",
      "10\n"
     ]
    }
   ],
   "source": [
    "#otro sencillo ejemplo de variables locales, y variables con el mismo nombre, y asignándole valores en distintos lugares \n",
    "a=10\n",
    "def variable_global():\n",
    "    print(a)\n",
    "variable_global()\n",
    "\n",
    "#asignando valor pero antes de llamar a la función\n",
    "def variable_global2():\n",
    "    print(b)\n",
    "b=15\n",
    "variable_global2()\n",
    "\n",
    "#asignando valor en diferentes momentos\n",
    "\n",
    "c=5\n",
    "def variable_global3():\n",
    "    c=5\n",
    "    print(c)\n",
    "variable_global3()\n",
    "c=10\n",
    "variable_global3()\n",
    "print(c)"
   ]
  },
  {
   "cell_type": "code",
   "execution_count": null,
   "metadata": {},
   "outputs": [],
   "source": []
  }
 ],
 "metadata": {
  "kernelspec": {
   "display_name": "Python 3",
   "language": "python",
   "name": "python3"
  },
  "language_info": {
   "codemirror_mode": {
    "name": "ipython",
    "version": 3
   },
   "file_extension": ".py",
   "mimetype": "text/x-python",
   "name": "python",
   "nbconvert_exporter": "python",
   "pygments_lexer": "ipython3",
   "version": "3.7.6"
  }
 },
 "nbformat": 4,
 "nbformat_minor": 4
}
