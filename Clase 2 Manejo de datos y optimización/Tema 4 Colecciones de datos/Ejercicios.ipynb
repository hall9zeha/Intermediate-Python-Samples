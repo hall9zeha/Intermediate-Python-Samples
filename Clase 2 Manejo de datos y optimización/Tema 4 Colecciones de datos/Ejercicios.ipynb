{
 "cells": [
  {
   "cell_type": "code",
   "execution_count": 14,
   "metadata": {},
   "outputs": [],
   "source": [
    "#Crear un conjunto de usuarios , Martha, David, elvira, Juan, Marcos\n",
    "#y otro de administradores Juan y Martha\n",
    "#Borrar al Administrador Juan del conjunto de administradores\n",
    "#Añadir a marcos como administrador pero no borrarlo de Usuarios\n",
    "#mostrar los datos por pantalla dinamicamente, indicando si es administrador o no\n",
    "\n",
    "user={'Martha','David','Elvira','Juan','Marcos'}\n",
    "admin={'Juan', 'Martha'}\n",
    "admin.discard('Juan') #Borrar un elemento del conjunto\n"
   ]
  },
  {
   "cell_type": "code",
   "execution_count": 6,
   "metadata": {},
   "outputs": [
    {
     "data": {
      "text/plain": [
       "{'Martha'}"
      ]
     },
     "execution_count": 6,
     "metadata": {},
     "output_type": "execute_result"
    }
   ],
   "source": [
    "admin"
   ]
  },
  {
   "cell_type": "code",
   "execution_count": 15,
   "metadata": {},
   "outputs": [
    {
     "data": {
      "text/plain": [
       "{'Marcos', 'Martha'}"
      ]
     },
     "execution_count": 15,
     "metadata": {},
     "output_type": "execute_result"
    }
   ],
   "source": [
    "admin.add('Marcos')\n",
    "admin"
   ]
  },
  {
   "cell_type": "code",
   "execution_count": 17,
   "metadata": {},
   "outputs": [
    {
     "name": "stdout",
     "output_type": "stream",
     "text": [
      "David Usuario\n",
      "Marcos Administrador\n",
      "Martha Administrador\n",
      "Juan Usuario\n",
      "Elvira Usuario\n"
     ]
    }
   ],
   "source": [
    "for i in user:\n",
    "    if i in admin:\n",
    "        print(i, \"Administrador\")\n",
    "    else:\n",
    "        print(i, \"Usuario\")"
   ]
  },
  {
   "cell_type": "code",
   "execution_count": 43,
   "metadata": {},
   "outputs": [
    {
     "name": "stdout",
     "output_type": "stream",
     "text": [
      "{'vida': 4, 'ataque': 2, 'defenza': 4, 'alcance': 2}\n",
      "{'vida': 2, 'ataque': 4, 'defenza': 2, 'alcance': 4}\n",
      "{'vida': 2, 'ataque': 4, 'defenza': 1.0, 'alcance': 8}\n"
     ]
    }
   ],
   "source": [
    "#Durante el desarrollo de un pequeño videojuego se te encarga configurar y balancear cada clase de personaje jugable. Partiendo que \n",
    "#la estadídtica base es 2, debes cumplir las siguientes condiciones:\n",
    "#El caballero tiene el doble de vida y defensa que un guerrero\n",
    "#El guerrero tiene el doble de alcance y ataque que el caballero\n",
    "#El arquero tiene la misma vida y ataque que un guerrero pero la mitad de su defenza y el doble de su ataque\n",
    "#muestra como quedan las propiedades de los tres personajes\n",
    "\n",
    "caballero={'vida':2, 'ataque':2,'defenza':2, 'alcance':2}\n",
    "guerrero={'vida':2, 'ataque':2,'defenza':2, 'alcance':2}\n",
    "arquero={'vida':2, 'ataque':2,'defenza':2, 'alcance':2}\n",
    "\n",
    "caballero['vida']+=2\n",
    "caballero['defenza']+=2\n",
    "guerrero['alcance']=caballero['alcance']*2\n",
    "guerrero['ataque']=guerrero['ataque']*2\n",
    "arquero['vida']=guerrero['vida']\n",
    "arquero['ataque']=guerrero['ataque']\n",
    "arquero['defenza']=guerrero['defenza']/2\n",
    "arquero['alcance']=guerrero['alcance']*2\n",
    "\n",
    "print(caballero)\n",
    "print(guerrero)\n",
    "print(arquero)"
   ]
  },
  {
   "cell_type": "code",
   "execution_count": 67,
   "metadata": {},
   "outputs": [
    {
     "name": "stdout",
     "output_type": "stream",
     "text": [
      "Tareas desordenada\n",
      "6 distribución\n",
      "2 diseño\n",
      "1 concepción\n",
      "7 mantenimiento\n",
      "4 producción\n",
      "3 planificación\n",
      "5 pruebas\n",
      "\n",
      "\n",
      "tareas ordenadas\n",
      "\n",
      "\n",
      "Cola ordenada\n",
      "concepción\n",
      "diseño\n",
      "planificación\n",
      "producción\n",
      "pruebas\n",
      "distribución\n",
      "mantenimiento\n"
     ]
    }
   ],
   "source": [
    "#Crear una lista de tareas ordenadas, mientras menor es el número de orden más prioridad tiene\n",
    "\n",
    "tareas=[[6,'distribución'],[2,'diseño'],[1,'concepción'],[7,'mantenimiento'],[4,'producción'],[3,'planificación'],[5,'pruebas']]\n",
    "\n",
    "print(\"Tareas desordenada\")\n",
    "for i in tareas:\n",
    "    print(i[0],i[1])\n",
    "\n",
    "tareas.sort() #ordenando las tareas\n",
    "print(\"\\n\")\n",
    "print(\"tareas ordenadas\")\n",
    "\n",
    "    \n",
    "from collections import deque  \n",
    "\n",
    "#agregandolo a una cola\n",
    "colaTareas=deque()\n",
    "for tarea in tareas:\n",
    "    colaTareas.append(tarea[1])\n",
    "print(\"\\n\")\n",
    "#mostrándolas \n",
    "print(\"Cola ordenada\")\n",
    "for tarea in colaTareas:\n",
    "    print(tarea)"
   ]
  },
  {
   "cell_type": "code",
   "execution_count": null,
   "metadata": {},
   "outputs": [],
   "source": []
  }
 ],
 "metadata": {
  "kernelspec": {
   "display_name": "Python 3",
   "language": "python",
   "name": "python3"
  },
  "language_info": {
   "codemirror_mode": {
    "name": "ipython",
    "version": 3
   },
   "file_extension": ".py",
   "mimetype": "text/x-python",
   "name": "python",
   "nbconvert_exporter": "python",
   "pygments_lexer": "ipython3",
   "version": "3.7.6"
  }
 },
 "nbformat": 4,
 "nbformat_minor": 4
}
