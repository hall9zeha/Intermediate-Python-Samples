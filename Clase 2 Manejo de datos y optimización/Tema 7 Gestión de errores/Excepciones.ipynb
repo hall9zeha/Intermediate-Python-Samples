{
 "cells": [
  {
   "cell_type": "code",
   "execution_count": 1,
   "metadata": {
    "scrolled": true
   },
   "outputs": [
    {
     "name": "stdout",
     "output_type": "stream",
     "text": [
      "ingresa un número: lñ\n",
      "Ha ocurrido un error introduce un número\n",
      "ingresa un número: 45\n",
      "45.0/10=4.5\n"
     ]
    }
   ],
   "source": [
    "#pondremos nuestro ejemplo dentro de un try para que no se detenga la ejecución de nuestro programa\n",
    "while(True): #un do while en python\n",
    "    try:\n",
    "    \n",
    "        n=float(input(\"ingresa un número: \"))\n",
    "        m=10\n",
    "        print(\"{}/{}={}\".format(n,m,n/m))\n",
    "        break #romper el ciclo si todo sale bien\n",
    "    except:\n",
    "        print(\"Ha ocurrido un error introduce un número\")"
   ]
  },
  {
   "cell_type": "code",
   "execution_count": 2,
   "metadata": {},
   "outputs": [
    {
     "name": "stdout",
     "output_type": "stream",
     "text": [
      "ingresa un número: 4\n",
      "4.0/10=0.4\n",
      "Todo ha salido bien\n"
     ]
    }
   ],
   "source": [
    "while(True): #un do while en python\n",
    "    try:\n",
    "    \n",
    "        n=float(input(\"ingresa un número: \"))\n",
    "        m=10\n",
    "        print(\"{}/{}={}\".format(n,m,n/m))\n",
    "        \n",
    "    except:\n",
    "        print(\"Ha ocurrido un error introduce un número\")\n",
    "    else: #podemos usar un else dentro del try\n",
    "        print(\"Todo ha salido bien\")\n",
    "        break #romper el ciclo si todo sale bien\n",
    "        "
   ]
  },
  {
   "cell_type": "code",
   "execution_count": 3,
   "metadata": {},
   "outputs": [
    {
     "name": "stdout",
     "output_type": "stream",
     "text": [
      "ingresa un número: 12\n",
      "12.0/10=1.2\n",
      "Todo ha salido bien\n",
      "fin del programa\n"
     ]
    }
   ],
   "source": [
    "while(True): #un do while en python\n",
    "    try:#detectar cualquier error en el funcionamiento del código\n",
    "    \n",
    "        n=float(input(\"ingresa un número: \"))\n",
    "        m=10\n",
    "        print(\"{}/{}={}\".format(n,m,n/m))\n",
    "        \n",
    "    except:#para definir un código excepcional a ejecutar si hay error\n",
    "        print(\"Ha ocurrido un error introduce un número\")\n",
    "    else: #podemos usar un else dentro del try, para ejecutar, una secuencia si no ha habido errores\n",
    "        print(\"Todo ha salido bien\")\n",
    "        break #romper el ciclo si todo sale bien\n",
    "    finally:#siempre se ejecuta al final del try ocurra o no un error \n",
    "        print(\"fin del programa\")"
   ]
  },
  {
   "cell_type": "code",
   "execution_count": null,
   "metadata": {},
   "outputs": [],
   "source": []
  }
 ],
 "metadata": {
  "kernelspec": {
   "display_name": "Python 3",
   "language": "python",
   "name": "python3"
  },
  "language_info": {
   "codemirror_mode": {
    "name": "ipython",
    "version": 3
   },
   "file_extension": ".py",
   "mimetype": "text/x-python",
   "name": "python",
   "nbconvert_exporter": "python",
   "pygments_lexer": "ipython3",
   "version": "3.7.6"
  }
 },
 "nbformat": 4,
 "nbformat_minor": 4
}
