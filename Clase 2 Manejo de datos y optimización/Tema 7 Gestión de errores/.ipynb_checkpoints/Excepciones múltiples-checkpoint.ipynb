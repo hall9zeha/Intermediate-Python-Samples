{
 "cells": [
  {
   "cell_type": "code",
   "execution_count": 1,
   "metadata": {},
   "outputs": [
    {
     "name": "stdout",
     "output_type": "stream",
     "text": [
      "Ingresa un número: 4\n",
      "TypeError\n"
     ]
    }
   ],
   "source": [
    "#capturando el nombre del error con un try\n",
    "try:\n",
    "    n=input(\"Ingresa un número: \")\n",
    "    n/5\n",
    "except Exception as e:\n",
    "    print(type(e).__name__)\n",
    "    "
   ]
  },
  {
   "cell_type": "code",
   "execution_count": 2,
   "metadata": {},
   "outputs": [
    {
     "name": "stdout",
     "output_type": "stream",
     "text": [
      "Ingresa un número: 4\n",
      "no se puede dividir un número entre una cadena\n"
     ]
    }
   ],
   "source": [
    "try:\n",
    "    n=input(\"Ingresa un número: \")\n",
    "    n/5\n",
    "except TypeError:\n",
    "    print(\"no se puede dividir un número entre una cadena\")\n",
    "except Exception as e:\n",
    "    print(type(e).__name__)\n",
    "    "
   ]
  },
  {
   "cell_type": "code",
   "execution_count": 4,
   "metadata": {},
   "outputs": [
    {
     "name": "stdout",
     "output_type": "stream",
     "text": [
      "Ingresa un número: l\n",
      "debes introducir un número\n"
     ]
    }
   ],
   "source": [
    "try:\n",
    "    n=float(input(\"Ingresa un número: \"))\n",
    "    n/5\n",
    "except TypeError:\n",
    "    print(\"no se puede dividir un número entre una cadena\")\n",
    "except ValueError:\n",
    "    print(\"debes introducir un número\")\n",
    "except ZeroDivisionError:\n",
    "    print(\"no se puede dividir por cero prueba otro número\")\n",
    "except Exception as e:\n",
    "    print(type(e).__name__)"
   ]
  },
  {
   "cell_type": "code",
   "execution_count": null,
   "metadata": {},
   "outputs": [],
   "source": []
  }
 ],
 "metadata": {
  "kernelspec": {
   "display_name": "Python 3",
   "language": "python",
   "name": "python3"
  },
  "language_info": {
   "codemirror_mode": {
    "name": "ipython",
    "version": 3
   },
   "file_extension": ".py",
   "mimetype": "text/x-python",
   "name": "python",
   "nbconvert_exporter": "python",
   "pygments_lexer": "ipython3",
   "version": "3.7.6"
  }
 },
 "nbformat": 4,
 "nbformat_minor": 4
}
