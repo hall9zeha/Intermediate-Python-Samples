{
 "cells": [
  {
   "cell_type": "code",
   "execution_count": 2,
   "metadata": {},
   "outputs": [
    {
     "name": "stdout",
     "output_type": "stream",
     "text": [
      "Error de valor nulo\n"
     ]
    }
   ],
   "source": [
    "def my_function(arg=None):\n",
    "    if(arg==None):\n",
    "        print(\"Error de valor nulo\")\n",
    "my_function()"
   ]
  },
  {
   "cell_type": "code",
   "execution_count": 3,
   "metadata": {},
   "outputs": [
    {
     "name": "stdout",
     "output_type": "stream",
     "text": [
      "No se permiten valores nulos\n"
     ]
    }
   ],
   "source": [
    "def my_function(arg=None):\n",
    "    try:\n",
    "        if(arg==None):\n",
    "            raise ValueError(\"Error de valor nulo\")#invocamos un error de tipo ValueError\n",
    "    except ValueError:#lo capturamos y definimos el código a utilizar\n",
    "        print(\"No se permiten valores nulos\")\n",
    "my_function()\n",
    "        \n",
    "            "
   ]
  },
  {
   "cell_type": "code",
   "execution_count": null,
   "metadata": {},
   "outputs": [],
   "source": []
  }
 ],
 "metadata": {
  "kernelspec": {
   "display_name": "Python 3",
   "language": "python",
   "name": "python3"
  },
  "language_info": {
   "codemirror_mode": {
    "name": "ipython",
    "version": 3
   },
   "file_extension": ".py",
   "mimetype": "text/x-python",
   "name": "python",
   "nbconvert_exporter": "python",
   "pygments_lexer": "ipython3",
   "version": "3.7.6"
  }
 },
 "nbformat": 4,
 "nbformat_minor": 4
}
