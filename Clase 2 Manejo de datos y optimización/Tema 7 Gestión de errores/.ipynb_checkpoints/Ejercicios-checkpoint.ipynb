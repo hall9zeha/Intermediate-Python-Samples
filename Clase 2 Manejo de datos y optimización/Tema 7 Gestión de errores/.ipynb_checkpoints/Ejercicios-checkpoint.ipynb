{
 "cells": [
  {
   "cell_type": "code",
   "execution_count": 6,
   "metadata": {},
   "outputs": [
    {
     "name": "stdout",
     "output_type": "stream",
     "text": [
      "Ingresa un número: 0\n",
      "no se puede dividir entre cero, prueba otro número\n",
      "Ingresa un número: 12\n"
     ]
    },
    {
     "data": {
      "text/plain": [
       "0.8333333333333334"
      ]
     },
     "execution_count": 6,
     "metadata": {},
     "output_type": "execute_result"
    }
   ],
   "source": [
    "#crea una función para evitar el error de tipo zero division y explica al usuario la causa y la solución\n",
    "def divide_num():\n",
    "    n=10\n",
    "    while(True):\n",
    "        try:\n",
    "            param=float(input(\"Ingresa un número: \"))\n",
    "            return n/param\n",
    "        except ZeroDivisionError:\n",
    "            print(\"no se puede dividir entre cero, prueba otro número\")\n",
    "        else:\n",
    "            print(\"finalizado correctamente\")\n",
    "            break\n",
    "divide_num()"
   ]
  },
  {
   "cell_type": "code",
   "execution_count": 7,
   "metadata": {},
   "outputs": [
    {
     "ename": "IndexError",
     "evalue": "list index out of range",
     "output_type": "error",
     "traceback": [
      "\u001b[1;31m---------------------------------------------------------------------------\u001b[0m",
      "\u001b[1;31mIndexError\u001b[0m                                Traceback (most recent call last)",
      "\u001b[1;32m<ipython-input-7-8b1cd9347520>\u001b[0m in \u001b[0;36m<module>\u001b[1;34m\u001b[0m\n\u001b[0;32m      3\u001b[0m \u001b[1;33m\u001b[0m\u001b[0m\n\u001b[0;32m      4\u001b[0m \u001b[0mlista\u001b[0m\u001b[1;33m=\u001b[0m\u001b[1;33m[\u001b[0m\u001b[1;36m1\u001b[0m\u001b[1;33m,\u001b[0m\u001b[1;36m2\u001b[0m\u001b[1;33m,\u001b[0m\u001b[1;36m3\u001b[0m\u001b[1;33m,\u001b[0m\u001b[1;36m4\u001b[0m\u001b[1;33m]\u001b[0m\u001b[1;33m\u001b[0m\u001b[1;33m\u001b[0m\u001b[0m\n\u001b[1;32m----> 5\u001b[1;33m \u001b[0mlista\u001b[0m\u001b[1;33m[\u001b[0m\u001b[1;36m10\u001b[0m\u001b[1;33m]\u001b[0m\u001b[1;33m\u001b[0m\u001b[1;33m\u001b[0m\u001b[0m\n\u001b[0m",
      "\u001b[1;31mIndexError\u001b[0m: list index out of range"
     ]
    }
   ],
   "source": [
    "#En una lista ver los errores cuando ocurre una consulta que esta fuera del índice de elementos contenidos, muestra la causa\n",
    "#y la solución al usuario\n",
    "\n",
    "lista=[1,2,3,4]\n",
    "lista[10]"
   ]
  },
  {
   "cell_type": "code",
   "execution_count": 8,
   "metadata": {},
   "outputs": [
    {
     "name": "stdout",
     "output_type": "stream",
     "text": [
      "el índice que intentas mostrar está fuera del rango de la lista\n",
      "    la cual solo tiene  4 indices\n"
     ]
    }
   ],
   "source": [
    "lista=[1,2,3,4]\n",
    "try: \n",
    "    lista[10]\n",
    "except IndexError:\n",
    "    print(\"\"\"el índice que intentas mostrar está fuera del rango de la lista\n",
    "    la cual solo tiene \"\"\",len(lista),\"\"\"indices\"\"\")"
   ]
  },
  {
   "cell_type": "code",
   "execution_count": 9,
   "metadata": {},
   "outputs": [
    {
     "ename": "KeyError",
     "evalue": "'blanco'",
     "output_type": "error",
     "traceback": [
      "\u001b[1;31m---------------------------------------------------------------------------\u001b[0m",
      "\u001b[1;31mKeyError\u001b[0m                                  Traceback (most recent call last)",
      "\u001b[1;32m<ipython-input-9-895ad7a127da>\u001b[0m in \u001b[0;36m<module>\u001b[1;34m\u001b[0m\n\u001b[0;32m      2\u001b[0m \u001b[1;33m\u001b[0m\u001b[0m\n\u001b[0;32m      3\u001b[0m \u001b[0mdictionary\u001b[0m\u001b[1;33m=\u001b[0m\u001b[1;33m{\u001b[0m\u001b[1;34m'rojo'\u001b[0m\u001b[1;33m:\u001b[0m\u001b[1;34m'red'\u001b[0m\u001b[1;33m,\u001b[0m\u001b[1;34m'verde'\u001b[0m\u001b[1;33m:\u001b[0m\u001b[1;34m'gree'\u001b[0m\u001b[1;33m,\u001b[0m \u001b[1;34m'azul'\u001b[0m\u001b[1;33m:\u001b[0m\u001b[1;34m'blue'\u001b[0m\u001b[1;33m,\u001b[0m \u001b[1;34m'amarillo'\u001b[0m\u001b[1;33m:\u001b[0m\u001b[1;34m'yellow'\u001b[0m\u001b[1;33m}\u001b[0m\u001b[1;33m\u001b[0m\u001b[1;33m\u001b[0m\u001b[0m\n\u001b[1;32m----> 4\u001b[1;33m \u001b[0mdictionary\u001b[0m\u001b[1;33m[\u001b[0m\u001b[1;34m'blanco'\u001b[0m\u001b[1;33m]\u001b[0m\u001b[1;33m\u001b[0m\u001b[1;33m\u001b[0m\u001b[0m\n\u001b[0m",
      "\u001b[1;31mKeyError\u001b[0m: 'blanco'"
     ]
    }
   ],
   "source": [
    "#Usaremos un diccionario y manejaremos el error de tipo KeyError, explicando al usuario como debe proceder\n",
    "\n",
    "dictionary={'rojo':'red','verde':'gree', 'azul':'blue', 'amarillo':'yellow'}\n",
    "dictionary['blanco']"
   ]
  },
  {
   "cell_type": "code",
   "execution_count": 11,
   "metadata": {},
   "outputs": [
    {
     "name": "stdout",
     "output_type": "stream",
     "text": [
      "la llave que estas utilizando  no existe en el diccionario, el cual tiene solo las siguientes:\n",
      "- rojo\n",
      "- verde\n",
      "- azul\n",
      "- amarillo\n"
     ]
    }
   ],
   "source": [
    "dictionary={'rojo':'red','verde':'gree', 'azul':'blue', 'amarillo':'yellow'}\n",
    "try:\n",
    "    dictionary['blanco']\n",
    "except KeyError:\n",
    "    print(\"la llave que estas utilizando  no existe en el diccionario, el cual tiene solo las siguientes:\")\n",
    "    for i in dictionary:\n",
    "        print(\"-\",i)"
   ]
  },
  {
   "cell_type": "code",
   "execution_count": 12,
   "metadata": {},
   "outputs": [
    {
     "ename": "TypeError",
     "evalue": "unsupported operand type(s) for +: 'int' and 'str'",
     "output_type": "error",
     "traceback": [
      "\u001b[1;31m---------------------------------------------------------------------------\u001b[0m",
      "\u001b[1;31mTypeError\u001b[0m                                 Traceback (most recent call last)",
      "\u001b[1;32m<ipython-input-12-71ad1af51770>\u001b[0m in \u001b[0;36m<module>\u001b[1;34m\u001b[0m\n\u001b[0;32m      1\u001b[0m \u001b[1;31m#tratamos un nuevo error de TypeError al sumar una cadena a un número o viceversa, controla la excepción e informa al usuario\u001b[0m\u001b[1;33m\u001b[0m\u001b[1;33m\u001b[0m\u001b[1;33m\u001b[0m\u001b[0m\n\u001b[1;32m----> 2\u001b[1;33m \u001b[0mresultado\u001b[0m\u001b[1;33m=\u001b[0m\u001b[1;36m15\u001b[0m\u001b[1;33m+\u001b[0m\u001b[1;34m'10'\u001b[0m\u001b[1;33m\u001b[0m\u001b[1;33m\u001b[0m\u001b[0m\n\u001b[0m",
      "\u001b[1;31mTypeError\u001b[0m: unsupported operand type(s) for +: 'int' and 'str'"
     ]
    }
   ],
   "source": [
    "#tratamos un nuevo error de TypeError al sumar una cadena a un número o viceversa, controla la excepción e informa al usuario\n",
    "resultado=15+'10'"
   ]
  },
  {
   "cell_type": "code",
   "execution_count": 13,
   "metadata": {},
   "outputs": [
    {
     "name": "stdout",
     "output_type": "stream",
     "text": [
      "no puedes sumar una cadena y un entero intenta on dos números reales\n"
     ]
    }
   ],
   "source": [
    "try:\n",
    "    resultado=15 + '10'\n",
    "except TypeError:\n",
    "    print(\"no puedes sumar una cadena y un entero intenta on dos números reales\")"
   ]
  },
  {
   "cell_type": "code",
   "execution_count": 39,
   "metadata": {},
   "outputs": [
    {
     "name": "stdout",
     "output_type": "stream",
     "text": [
      "imposible añadir elemento duplicado -> -2\n",
      "La lista ya contiene ese elemento\n",
      "-> 1\n",
      "-> 5\n",
      "-> -2\n",
      "-> 10\n"
     ]
    },
    {
     "data": {
      "text/plain": [
       "[1, 5, -2, 10, 'hola']"
      ]
     },
     "execution_count": 39,
     "metadata": {},
     "output_type": "execute_result"
    }
   ],
   "source": [
    "#crea una función que reciba un elemento por parámetro y la ingrese al final de una lista, pero con la condición de que no se\n",
    "#repita en la lista de destino, y si es así invocar un error de tipo ValueError, que debes capturar y mostrar e sgte mensaje:\n",
    "\n",
    "\n",
    "#Error imposible añadir elementos duplicados =>[elemento]\n",
    "#prueba agregar los elementos 10, -2, \"Hola\" a la lista de elementos con la función una vez la has creado y luego muestra su contenido\n",
    "\n",
    "elementos =[1,5,-2]\n",
    "def agregar_una_vez(lista,arg):\n",
    "    try:\n",
    "        \n",
    "        if(arg in lista):\n",
    "            raise ValueError\n",
    "        else:\n",
    "            lista.append(arg)\n",
    "            lista        \n",
    "    except ValueError:\n",
    "        print (\"imposible añadir elemento duplicado ->\",arg )\n",
    "        print(\"La lista ya contiene ese elemento\")\n",
    "        for  i in lista:\n",
    "            print(\"->\",i)\n",
    "agregar_una_vez(elementos,10)\n",
    "agregar_una_vez(elementos,-2)\n",
    "agregar_una_vez(elementos,\"hola\")\n",
    "elementos"
   ]
  },
  {
   "cell_type": "code",
   "execution_count": null,
   "metadata": {},
   "outputs": [],
   "source": []
  }
 ],
 "metadata": {
  "kernelspec": {
   "display_name": "Python 3",
   "language": "python",
   "name": "python3"
  },
  "language_info": {
   "codemirror_mode": {
    "name": "ipython",
    "version": 3
   },
   "file_extension": ".py",
   "mimetype": "text/x-python",
   "name": "python",
   "nbconvert_exporter": "python",
   "pygments_lexer": "ipython3",
   "version": "3.7.6"
  }
 },
 "nbformat": 4,
 "nbformat_minor": 4
}
