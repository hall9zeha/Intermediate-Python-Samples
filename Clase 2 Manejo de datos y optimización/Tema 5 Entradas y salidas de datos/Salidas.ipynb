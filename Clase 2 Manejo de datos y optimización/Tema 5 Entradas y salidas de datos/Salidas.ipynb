{
 "cells": [
  {
   "cell_type": "code",
   "execution_count": 3,
   "metadata": {},
   "outputs": [
    {
     "name": "stdout",
     "output_type": "stream",
     "text": [
      "un texto: un texto y un número: 32\n"
     ]
    }
   ],
   "source": [
    "#formato típico de imprimir un mensaje concatenando variable muy engorroso\n",
    "s=\"un texto\"\n",
    "i=32\n",
    "\n",
    "print(\"un texto:\",s,\"y un número:\",i)"
   ]
  },
  {
   "cell_type": "code",
   "execution_count": 5,
   "metadata": {},
   "outputs": [
    {
     "data": {
      "text/plain": [
       "'un texto: un texto y un número:32'"
      ]
     },
     "execution_count": 5,
     "metadata": {},
     "output_type": "execute_result"
    }
   ],
   "source": [
    "#ahora mejoraremos esta forma con referencias dentro de un formato de cadena que establezcamos\n",
    "c=\"un texto: {} y un número:{}\".format(s,i) #->las llaves indican donde iran nuestras variables\n",
    "c"
   ]
  },
  {
   "cell_type": "code",
   "execution_count": 6,
   "metadata": {},
   "outputs": [
    {
     "name": "stdout",
     "output_type": "stream",
     "text": [
      "un texto: 32 y un número:un texto\n"
     ]
    }
   ],
   "source": [
    "#podemos cambiar el orden manipulando los índices en las llaves\n",
    "print(\"un texto: {1} y un número:{0}\".format(s,i))"
   ]
  },
  {
   "cell_type": "code",
   "execution_count": 7,
   "metadata": {},
   "outputs": [
    {
     "name": "stdout",
     "output_type": "stream",
     "text": [
      "un texto: un texto y un número:32\n"
     ]
    }
   ],
   "source": [
    "#otra forma creando un código dentro de cada llave para referenciar esa posición y pasarle un parámetro\n",
    "print(\"un texto: {texto} y un número:{num}\".format(texto=s,num=i))"
   ]
  },
  {
   "cell_type": "code",
   "execution_count": 8,
   "metadata": {},
   "outputs": [
    {
     "name": "stdout",
     "output_type": "stream",
     "text": [
      "                        cadena\n"
     ]
    }
   ],
   "source": [
    "#otra de las posibilidades de las muchas de format, tabular una cadena de la siguiente forma\n",
    "print(\"{:>30}\".format(\"cadena\"))#tabulada a la derecha '>' con 30 espacios"
   ]
  },
  {
   "cell_type": "code",
   "execution_count": 9,
   "metadata": {},
   "outputs": [
    {
     "name": "stdout",
     "output_type": "stream",
     "text": [
      "cadena                        \n"
     ]
    }
   ],
   "source": [
    "print(\"{:30}\".format(\"cadena\"))#tabulada a la derecha '<' con 30 espacios, dejados a la derecha\n"
   ]
  },
  {
   "cell_type": "code",
   "execution_count": 10,
   "metadata": {},
   "outputs": [
    {
     "name": "stdout",
     "output_type": "stream",
     "text": [
      "            cadena            \n"
     ]
    }
   ],
   "source": [
    "print(\"{:^30}\".format(\"cadena\"))#tabulada al centro de los 30  espacios"
   ]
  },
  {
   "cell_type": "code",
   "execution_count": 11,
   "metadata": {},
   "outputs": [
    {
     "name": "stdout",
     "output_type": "stream",
     "text": [
      "cad\n"
     ]
    }
   ],
   "source": [
    "print(\"{:.3}\".format(\"cadena\"))#Truncar el texto a 3 caracteres '.3'"
   ]
  },
  {
   "cell_type": "code",
   "execution_count": 12,
   "metadata": {},
   "outputs": [
    {
     "name": "stdout",
     "output_type": "stream",
     "text": [
      "                           cad\n"
     ]
    }
   ],
   "source": [
    "print(\"{:>30.3}\".format(\"cadena\"))#tabulada a la derecha '>' con 30 espacios y truncamiento"
   ]
  },
  {
   "cell_type": "code",
   "execution_count": 13,
   "metadata": {},
   "outputs": [
    {
     "name": "stdout",
     "output_type": "stream",
     "text": [
      "  10\n",
      " 100\n",
      "1000\n"
     ]
    }
   ],
   "source": [
    "#formateo de números enteros rellenados con espacios\n",
    "print(\"{:4d}\".format(10))#4d cuatro dígitos\n",
    "print(\"{:4d}\".format(100))\n",
    "print(\"{:4d}\".format(1000))"
   ]
  },
  {
   "cell_type": "code",
   "execution_count": 14,
   "metadata": {},
   "outputs": [
    {
     "name": "stdout",
     "output_type": "stream",
     "text": [
      "0010\n",
      "0100\n",
      "1000\n"
     ]
    }
   ],
   "source": [
    "#rellenado con ceros\n",
    "print(\"{:04d}\".format(10))#04d cuatro dígitos, ceros delante \n",
    "print(\"{:04d}\".format(100))\n",
    "print(\"{:04d}\".format(1000))"
   ]
  },
  {
   "cell_type": "code",
   "execution_count": 17,
   "metadata": {},
   "outputs": [
    {
     "name": "stdout",
     "output_type": "stream",
     "text": [
      "  3.142\n",
      "153.210\n"
     ]
    }
   ],
   "source": [
    " #formateo de números flotantes y alinearlos, paraello debemos saber la longitud de nuestro máximo dígito, ya veremos mas adelante\n",
    "print(\"{:7.3f}\".format(3.1415926))# con 3 decimales\n",
    "print(\"{:7.3f}\".format(153.21))\n"
   ]
  },
  {
   "cell_type": "code",
   "execution_count": 18,
   "metadata": {},
   "outputs": [
    {
     "name": "stdout",
     "output_type": "stream",
     "text": [
      "003.142\n",
      "153.210\n"
     ]
    }
   ],
   "source": [
    "print(\"{:07.3f}\".format(3.1415926))# con 3 decimales, rellenando espacios delantes con ceros\n",
    "print(\"{:07.3f}\".format(153.21))\n"
   ]
  },
  {
   "cell_type": "code",
   "execution_count": null,
   "metadata": {},
   "outputs": [],
   "source": []
  }
 ],
 "metadata": {
  "kernelspec": {
   "display_name": "Python 3",
   "language": "python",
   "name": "python3"
  },
  "language_info": {
   "codemirror_mode": {
    "name": "ipython",
    "version": 3
   },
   "file_extension": ".py",
   "mimetype": "text/x-python",
   "name": "python",
   "nbconvert_exporter": "python",
   "pygments_lexer": "ipython3",
   "version": "3.7.6"
  }
 },
 "nbformat": 4,
 "nbformat_minor": 4
}
