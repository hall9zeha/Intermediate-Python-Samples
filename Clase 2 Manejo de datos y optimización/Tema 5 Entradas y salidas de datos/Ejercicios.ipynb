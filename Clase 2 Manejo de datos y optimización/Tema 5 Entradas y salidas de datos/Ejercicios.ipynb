{
 "cells": [
  {
   "cell_type": "code",
   "execution_count": 21,
   "metadata": {},
   "outputs": [
    {
     "name": "stdout",
     "output_type": "stream",
     "text": [
      "          Hola mundo\n",
      "Hola\n",
      "         H          \n",
      "00150\n",
      "   7887\n",
      "020.020\n"
     ]
    }
   ],
   "source": [
    "#Formatea los siguientes valores para mostrar el formato requerido:\n",
    "#\"Hola mundo\" ->alineado a la derecha en 20 caracteres\n",
    "#\"Hola mundo\" -> truncamiento en el cuarto caracter linea 3\n",
    "#\"Hola mundo\" -> Alineado al centro en 20 caracteres y truncamiento en el segundo caracter índice 1\n",
    "#150 ->formateo a 5 números enteros rellenados con ceros\n",
    "#7887 ->formateado a 7 números enteros rellenado con espacios\n",
    "#20.02 ->formateado a 3 números enteros y tres decimales\n",
    "\n",
    "string=\"Hola mundo\"\n",
    "print(\"{:>20}\".format(string))\n",
    "print(\"{:.4}\".format(string))\n",
    "print(\"{:^20.1}\".format(string))\n",
    "print(\"{:05d}\".format(150))\n",
    "print(\"{:7d}\".format(7887))\n",
    "print(\"{:07.3f}\".format(20.02))"
   ]
  },
  {
   "cell_type": "code",
   "execution_count": 30,
   "metadata": {},
   "outputs": [
    {
     "ename": "SyntaxError",
     "evalue": "EOL while scanning string literal (<ipython-input-30-b1ff0575c229>, line 22)",
     "output_type": "error",
     "traceback": [
      "\u001b[1;36m  File \u001b[1;32m\"<ipython-input-30-b1ff0575c229>\"\u001b[1;36m, line \u001b[1;32m22\u001b[0m\n\u001b[1;33m    print(\"*\",end=\")\u001b[0m\n\u001b[1;37m                    ^\u001b[0m\n\u001b[1;31mSyntaxError\u001b[0m\u001b[1;31m:\u001b[0m EOL while scanning string literal\n"
     ]
    }
   ],
   "source": [
    "#Crea un script llamado tabla.py que realice las siguientes tareas\n",
    "#debe tomar dos argumentos ambos números enteros positivos del 1 al 9, si nomostrará error\n",
    "#el primer argumento hará referencia a las filas de una tabla el segundo a las colúmnas\n",
    "#en caso de no recibir uno o ambos argumentos debe mostrar un ejemplo de como usar el script\n",
    "#el script tendrá un bucle for que itere el número de veces del primer argumento\n",
    "#dentro del for añade un segundo for que itere el número de veces del segundo argumento\n",
    "#dentro del segundo for ejecuta una instrucción print(\"*\",end=\")(end=\"evita el salto de línea\")\n",
    "#ejecuta el código y observa el resultado\n",
    "\n",
    "\n",
    "#deduce como y donde añadir una instrucción print para dibujar una tabla\n",
    "#los argumentos se envian como cadenas separadas por espacios, si quieres enviar varias palabras como un argumento deberás indicarlas entre comillas\n",
    "#dobles, para capturar los elementos debes utilizar el módulo sys y su lista argv\n",
    "import sys\n",
    "\n",
    "num1=int(sys.argv[1])\n",
    "num2=int(sys.argv[2])\n",
    "\n",
    "if (num1>9 or num1<1 or num2<1 or num2>9):\n",
    "\tprint(\"alguno de los números no son enteros o positivos, inténtalo nuevamente\")\n",
    "\tprint(\"ejemplo de uso del script\", \"escribir_linear.py \",\"[primerEntero 1-9]\", \"[segundoEntero 1 -9]\"\"\")\n",
    "elif len(sys.argv)==3:\n",
    "\tfor i in range(num1):\n",
    "\t\tprint()\n",
    "\t\tfor h in range(num2):\n",
    "\t\t\tprint(\"*\",end='')\n",
    "\n",
    "else:\n",
    "\tprint(\"falta uno o los dos argumentos \")\n",
    "\tprint(\"ejemplo de uso del script\", \"escribir_linear.py \",\"primerEntero\", \"segundoEntero\"\"\")\n",
    "    \n",
    "#Usar este código como una script en un editor de texto"
   ]
  },
  {
   "cell_type": "code",
   "execution_count": 61,
   "metadata": {},
   "outputs": [
    {
     "name": "stdout",
     "output_type": "stream",
     "text": [
      "ingresa un número entero: 123\n",
      "0003\n",
      "0020\n",
      "0100\n"
     ]
    }
   ],
   "source": [
    "#crear un script llamado descomposición que realice lo siguiente\n",
    "#Tomar un argumento entero positivo\n",
    "#si no recibe ningún argumento debe mostrar un ejmeplo de como usar el script\n",
    "\n",
    "#El objetivo es descomponer el número en unidades, decenas, centenas y miles ejm\n",
    "#1540\n",
    "#0000\n",
    "#0040\n",
    "#0500\n",
    "#1000\n",
    "\n",
    "i=(input(\"ingresa un número entero: \"))\n",
    "\n",
    "num=int(len(i))\n",
    "\n",
    "\n",
    "for indice in range(num):\n",
    "    print(\"{:04d}\".format(int(i[num-1-indice])*10**indice))\n",
    "    "
   ]
  },
  {
   "cell_type": "code",
   "execution_count": null,
   "metadata": {},
   "outputs": [],
   "source": []
  }
 ],
 "metadata": {
  "kernelspec": {
   "display_name": "Python 3",
   "language": "python",
   "name": "python3"
  },
  "language_info": {
   "codemirror_mode": {
    "name": "ipython",
    "version": 3
   },
   "file_extension": ".py",
   "mimetype": "text/x-python",
   "name": "python",
   "nbconvert_exporter": "python",
   "pygments_lexer": "ipython3",
   "version": "3.7.6"
  }
 },
 "nbformat": 4,
 "nbformat_minor": 4
}
