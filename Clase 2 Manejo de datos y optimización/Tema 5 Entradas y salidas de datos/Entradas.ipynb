{
 "cells": [
  {
   "cell_type": "code",
   "execution_count": 1,
   "metadata": {},
   "outputs": [
    {
     "name": "stdout",
     "output_type": "stream",
     "text": [
      "ingresa un decimal: 4.2\n",
      "4.2\n"
     ]
    }
   ],
   "source": [
    "#ejemplos para dummies, que mas da :V\n",
    "decimal=float(input(\"ingresa un decimal: \"))\n",
    "print(decimal)\n"
   ]
  },
  {
   "cell_type": "code",
   "execution_count": 4,
   "metadata": {},
   "outputs": [
    {
     "name": "stdout",
     "output_type": "stream",
     "text": [
      "ingresa 3 elementos: 2\n",
      "ingresa 3 elementos: barry\n",
      "ingresa 3 elementos: 4.5\n",
      "['2', 'barry', '4.5']\n"
     ]
    }
   ],
   "source": [
    "lista=[]\n",
    "for x in range(3):\n",
    "    elemento=input(\"ingresa 3 elementos: \")\n",
    "    lista.append(elemento)\n",
    "print(lista)"
   ]
  },
  {
   "cell_type": "code",
   "execution_count": null,
   "metadata": {},
   "outputs": [],
   "source": []
  }
 ],
 "metadata": {
  "kernelspec": {
   "display_name": "Python 3",
   "language": "python",
   "name": "python3"
  },
  "language_info": {
   "codemirror_mode": {
    "name": "ipython",
    "version": 3
   },
   "file_extension": ".py",
   "mimetype": "text/x-python",
   "name": "python",
   "nbconvert_exporter": "python",
   "pygments_lexer": "ipython3",
   "version": "3.7.6"
  }
 },
 "nbformat": 4,
 "nbformat_minor": 4
}
