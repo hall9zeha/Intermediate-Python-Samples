{
 "cells": [
  {
   "cell_type": "code",
   "execution_count": 8,
   "metadata": {},
   "outputs": [
    {
     "data": {
      "text/plain": [
       "[5, 0, 50]"
      ]
     },
     "execution_count": 8,
     "metadata": {},
     "output_type": "execute_result"
    }
   ],
   "source": [
    "#a partir de una lista o iterador devuelve una nueva coleccion que cumpla con determinadas condiciones de filtro\n",
    "\n",
    "#creamos  la colección yluego la función condicional para pasarlelos al método filter\n",
    "\n",
    "lista=[2,5,1,0,23,50]\n",
    "\n",
    "def multiplo(numero):\n",
    "    if numero%5==0:\n",
    "        return True\n",
    "\n",
    "list(filter(multiplo,lista))#ya que nos devuelve un objectiterable casteamos a una lista para mostrarla\n",
    "\n"
   ]
  },
  {
   "cell_type": "code",
   "execution_count": 11,
   "metadata": {},
   "outputs": [],
   "source": [
    "f=filter(multiplo,lista)"
   ]
  },
  {
   "cell_type": "code",
   "execution_count": 12,
   "metadata": {},
   "outputs": [
    {
     "data": {
      "text/plain": [
       "5"
      ]
     },
     "execution_count": 12,
     "metadata": {},
     "output_type": "execute_result"
    }
   ],
   "source": [
    "next(f)"
   ]
  },
  {
   "cell_type": "code",
   "execution_count": 13,
   "metadata": {},
   "outputs": [
    {
     "data": {
      "text/plain": [
       "0"
      ]
     },
     "execution_count": 13,
     "metadata": {},
     "output_type": "execute_result"
    }
   ],
   "source": [
    "next(f)"
   ]
  },
  {
   "cell_type": "code",
   "execution_count": 15,
   "metadata": {},
   "outputs": [
    {
     "data": {
      "text/plain": [
       "[5, 0, 50]"
      ]
     },
     "execution_count": 15,
     "metadata": {},
     "output_type": "execute_result"
    }
   ],
   "source": [
    "#usando una lambda\n",
    "list(filter(lambda num :num %5==0, lista))"
   ]
  },
  {
   "cell_type": "code",
   "execution_count": 19,
   "metadata": {},
   "outputs": [],
   "source": [
    "class Persona:\n",
    "    def __init__(self, nombre, edad):\n",
    "        self.nombre=nombre\n",
    "        self.edad=edad\n",
    "    def __str__(self):\n",
    "        return \"{}, {}\".format(self.nombre, self.edad)\n",
    "personas=[\n",
    "    Persona(\"Barry\",30),\n",
    "    Persona(\"Martha\",32),\n",
    "    Persona(\"Celie\",16)\n",
    "    \n",
    "]\n",
    "        "
   ]
  },
  {
   "cell_type": "code",
   "execution_count": 24,
   "metadata": {},
   "outputs": [
    {
     "name": "stdout",
     "output_type": "stream",
     "text": [
      "Barry, 30\n",
      "Martha, 32\n"
     ]
    }
   ],
   "source": [
    "#filtrando solo los mayores de edad dentro de la lista personas con objetos de la clase Persona\n",
    "lista=list(filter(lambda personas : personas.edad >=18,personas))\n",
    "for mayores in lista:\n",
    "    print(mayores)"
   ]
  },
  {
   "cell_type": "code",
   "execution_count": null,
   "metadata": {},
   "outputs": [],
   "source": []
  }
 ],
 "metadata": {
  "kernelspec": {
   "display_name": "Python 3",
   "language": "python",
   "name": "python3"
  },
  "language_info": {
   "codemirror_mode": {
    "name": "ipython",
    "version": 3
   },
   "file_extension": ".py",
   "mimetype": "text/x-python",
   "name": "python",
   "nbconvert_exporter": "python",
   "pygments_lexer": "ipython3",
   "version": "3.7.6"
  }
 },
 "nbformat": 4,
 "nbformat_minor": 4
}
