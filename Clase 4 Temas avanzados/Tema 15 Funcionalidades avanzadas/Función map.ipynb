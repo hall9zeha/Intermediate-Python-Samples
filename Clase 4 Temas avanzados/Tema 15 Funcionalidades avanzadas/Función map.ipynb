{
 "cells": [
  {
   "cell_type": "code",
   "execution_count": 3,
   "metadata": {},
   "outputs": [],
   "source": [
    "#funciona igual que filter devulve un iterable de tipo map y aplica una funcion condicional sobre todos los elementos\n",
    "numeros=[1,5,6,7,8,1,10]\n",
    "\n",
    "def doblar(numero):\n",
    "    return numero*2\n",
    "\n",
    "d=map(doblar,numeros)\n"
   ]
  },
  {
   "cell_type": "code",
   "execution_count": 4,
   "metadata": {},
   "outputs": [
    {
     "data": {
      "text/plain": [
       "2"
      ]
     },
     "execution_count": 4,
     "metadata": {},
     "output_type": "execute_result"
    }
   ],
   "source": [
    "next(d)"
   ]
  },
  {
   "cell_type": "code",
   "execution_count": 5,
   "metadata": {},
   "outputs": [
    {
     "data": {
      "text/plain": [
       "10"
      ]
     },
     "execution_count": 5,
     "metadata": {},
     "output_type": "execute_result"
    }
   ],
   "source": [
    "next(d)"
   ]
  },
  {
   "cell_type": "code",
   "execution_count": 6,
   "metadata": {},
   "outputs": [
    {
     "data": {
      "text/plain": [
       "[12, 14, 16, 2, 20]"
      ]
     },
     "execution_count": 6,
     "metadata": {},
     "output_type": "execute_result"
    }
   ],
   "source": [
    "list(d)"
   ]
  },
  {
   "cell_type": "code",
   "execution_count": 7,
   "metadata": {},
   "outputs": [
    {
     "data": {
      "text/plain": [
       "[2, 10, 12, 14, 16, 2, 20]"
      ]
     },
     "execution_count": 7,
     "metadata": {},
     "output_type": "execute_result"
    }
   ],
   "source": [
    "list(map(lambda x:x*2,numeros))"
   ]
  },
  {
   "cell_type": "code",
   "execution_count": 8,
   "metadata": {},
   "outputs": [
    {
     "data": {
      "text/plain": [
       "[8, 18, 16, 25, 36]"
      ]
     },
     "execution_count": 8,
     "metadata": {},
     "output_type": "execute_result"
    }
   ],
   "source": [
    "#podemos hacer operaciones entre listas pero que tengan la misma longitud\n",
    "\n",
    "l1=[1,2,4,5,6]\n",
    "l2=[8,9,4,5,6]\n",
    "\n",
    "list(map(lambda x,y:x*y,l1,l2))#multiplicando las listas l1 * l2"
   ]
  },
  {
   "cell_type": "code",
   "execution_count": 11,
   "metadata": {},
   "outputs": [],
   "source": [
    "class Persona:\n",
    "    def __init__(self, nombre, edad):\n",
    "        self.nombre=nombre\n",
    "        self.edad=edad\n",
    "    def __str__(self):\n",
    "        return \"{},{}\".format(self.nombre, self.edad)\n",
    "\n",
    "personas=[Persona(\"Barry\",30),\n",
    "          Persona(\"Martha\",27),\n",
    "          Persona(\"Celie\",17)\n",
    "         \n",
    "         ]\n",
    "\n",
    "def incrementar(persona):\n",
    "    persona.edad +=1\n",
    "    return persona\n",
    "\n",
    "personas=map(incrementar, personas)\n",
    "\n",
    "\n"
   ]
  },
  {
   "cell_type": "code",
   "execution_count": 12,
   "metadata": {},
   "outputs": [
    {
     "name": "stdout",
     "output_type": "stream",
     "text": [
      "Barry,31\n",
      "Martha,28\n",
      "Celie,18\n"
     ]
    }
   ],
   "source": [
    "for p in personas:\n",
    "    print(p)"
   ]
  },
  {
   "cell_type": "code",
   "execution_count": 21,
   "metadata": {},
   "outputs": [],
   "source": [
    "personas=[Persona(\"Barry\",30),\n",
    "          Persona(\"Martha\",27),\n",
    "          Persona(\"Celie\",17)\n",
    "         \n",
    "         ]\n",
    "\n",
    "lista=map(lambda persona:Persona(persona.nombre, persona.edad+1),personas)#ahora en lambda"
   ]
  },
  {
   "cell_type": "code",
   "execution_count": 22,
   "metadata": {},
   "outputs": [
    {
     "name": "stdout",
     "output_type": "stream",
     "text": [
      "Barry,31\n",
      "Martha,28\n",
      "Celie,18\n"
     ]
    }
   ],
   "source": [
    "for  persona in lista:\n",
    "    print(persona)"
   ]
  },
  {
   "cell_type": "code",
   "execution_count": null,
   "metadata": {},
   "outputs": [],
   "source": []
  }
 ],
 "metadata": {
  "kernelspec": {
   "display_name": "Python 3",
   "language": "python",
   "name": "python3"
  },
  "language_info": {
   "codemirror_mode": {
    "name": "ipython",
    "version": 3
   },
   "file_extension": ".py",
   "mimetype": "text/x-python",
   "name": "python",
   "nbconvert_exporter": "python",
   "pygments_lexer": "ipython3",
   "version": "3.7.6"
  }
 },
 "nbformat": 4,
 "nbformat_minor": 4
}
