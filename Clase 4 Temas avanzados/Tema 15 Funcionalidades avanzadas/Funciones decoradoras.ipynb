{
 "cells": [
  {
   "cell_type": "code",
   "execution_count": 2,
   "metadata": {},
   "outputs": [
    {
     "data": {
      "text/plain": [
       "<function __main__.hola.<locals>.bienvenido()>"
      ]
     },
     "execution_count": 2,
     "metadata": {},
     "output_type": "execute_result"
    }
   ],
   "source": [
    "def hola():\n",
    "    def bienvenido():\n",
    "        return \"hola\"\n",
    "    return bienvenido\n",
    "hola()\n",
    "    "
   ]
  },
  {
   "cell_type": "code",
   "execution_count": 5,
   "metadata": {},
   "outputs": [
    {
     "name": "stdout",
     "output_type": "stream",
     "text": [
      "{'bienvenido': <function hola.<locals>.bienvenido at 0x000002382C8E45E8>}\n"
     ]
    },
    {
     "data": {
      "text/plain": [
       "<function __main__.hola.<locals>.bienvenido()>"
      ]
     },
     "execution_count": 5,
     "metadata": {},
     "output_type": "execute_result"
    }
   ],
   "source": [
    "lista=[1,2,3]\n",
    "def hola():\n",
    "    def bienvenido():\n",
    "        return \"hola\"\n",
    "    print (locals())\n",
    "    return bienvenido\n",
    "hola()"
   ]
  },
  {
   "cell_type": "code",
   "execution_count": 4,
   "metadata": {},
   "outputs": [
    {
     "data": {
      "text/plain": [
       "dict_keys(['__name__', '__doc__', '__package__', '__loader__', '__spec__', '__builtin__', '__builtins__', '_ih', '_oh', '_dh', 'In', 'Out', 'get_ipython', 'exit', 'quit', '_', '__', '___', '_i', '_ii', '_iii', '_i1', 'hola', '_i2', '_2', '_i3', '_3', '_i4'])"
      ]
     },
     "execution_count": 4,
     "metadata": {},
     "output_type": "execute_result"
    }
   ],
   "source": [
    "globals().keys()"
   ]
  },
  {
   "cell_type": "code",
   "execution_count": 7,
   "metadata": {},
   "outputs": [
    {
     "data": {
      "text/plain": [
       "[1, 2, 3]"
      ]
     },
     "execution_count": 7,
     "metadata": {},
     "output_type": "execute_result"
    }
   ],
   "source": [
    "globals()['lista']"
   ]
  },
  {
   "cell_type": "code",
   "execution_count": 10,
   "metadata": {},
   "outputs": [
    {
     "data": {
      "text/plain": [
       "'hola'"
      ]
     },
     "execution_count": 10,
     "metadata": {},
     "output_type": "execute_result"
    }
   ],
   "source": [
    "def hola():\n",
    "    def bienvenido():\n",
    "        return \"hola\"\n",
    "    return bienvenido\n",
    "hola()()#llamamos a la subfunción"
   ]
  },
  {
   "cell_type": "code",
   "execution_count": 11,
   "metadata": {},
   "outputs": [
    {
     "data": {
      "text/plain": [
       "'hola'"
      ]
     },
     "execution_count": 11,
     "metadata": {},
     "output_type": "execute_result"
    }
   ],
   "source": [
    "#OTRO MÉTODO\n",
    "bienvenido=hola()\n",
    "bienvenido()"
   ]
  },
  {
   "cell_type": "code",
   "execution_count": 12,
   "metadata": {},
   "outputs": [],
   "source": [
    "del(hola)"
   ]
  },
  {
   "cell_type": "code",
   "execution_count": 13,
   "metadata": {},
   "outputs": [
    {
     "data": {
      "text/plain": [
       "'hola'"
      ]
     },
     "execution_count": 13,
     "metadata": {},
     "output_type": "execute_result"
    }
   ],
   "source": [
    "bienvenido()"
   ]
  },
  {
   "cell_type": "code",
   "execution_count": 15,
   "metadata": {},
   "outputs": [
    {
     "name": "stdout",
     "output_type": "stream",
     "text": [
      "hola\n"
     ]
    }
   ],
   "source": [
    "#pasando una función como parámetro\n",
    "def hola():\n",
    "    return \"hola\"\n",
    "def test(funcion):\n",
    "    print(funcion())\n",
    "test(hola)\n"
   ]
  },
  {
   "cell_type": "code",
   "execution_count": 25,
   "metadata": {},
   "outputs": [],
   "source": [
    "#decorador queire decir ejecutar funciones encapsuladas unas dentro de otras en este caso\n",
    "\n",
    "def hola():\n",
    "    return \"Hola\"\n",
    "def adios():\n",
    "    return \"Adios\"\n",
    "\n",
    "def monitorizar(funcion):\n",
    "    def decorar():\n",
    "        print(\"se esta ejecutando la función\\n\", funcion.__name__)\n",
    "        \n",
    "        funcion()\n",
    "        \n",
    "        print(\"se ejecutó la función\\n \",funcion.__name__)\n",
    "    return decorar\n",
    "\n",
    "    \n"
   ]
  },
  {
   "cell_type": "code",
   "execution_count": 26,
   "metadata": {},
   "outputs": [
    {
     "name": "stdout",
     "output_type": "stream",
     "text": [
      "se esta ejecutando la función\n",
      " hola\n",
      "se ejecutó la función\n",
      "  hola\n"
     ]
    }
   ],
   "source": [
    "monitorizar(hola)()"
   ]
  },
  {
   "cell_type": "code",
   "execution_count": 29,
   "metadata": {},
   "outputs": [],
   "source": [
    "#usamos los famosos decoradores que hemos visto en java\n",
    "@monitorizar\n",
    "def hola():\n",
    "    return \"hola\"\n",
    "@monitorizar\n",
    "def adios():\n",
    "    return \"adios\"\n",
    "    "
   ]
  },
  {
   "cell_type": "code",
   "execution_count": 30,
   "metadata": {},
   "outputs": [
    {
     "name": "stdout",
     "output_type": "stream",
     "text": [
      "se esta ejecutando la función\n",
      " hola\n",
      "se ejecutó la función\n",
      "  hola\n"
     ]
    }
   ],
   "source": [
    "hola()#la funcion decoradora de hola es monitorizar así que implementará funciones que estén dentro de monitorizar e impliquen a hola()"
   ]
  },
  {
   "cell_type": "code",
   "execution_count": 31,
   "metadata": {
    "scrolled": true
   },
   "outputs": [
    {
     "ename": "TypeError",
     "evalue": "decorar() takes 0 positional arguments but 1 was given",
     "output_type": "error",
     "traceback": [
      "\u001b[1;31m---------------------------------------------------------------------------\u001b[0m",
      "\u001b[1;31mTypeError\u001b[0m                                 Traceback (most recent call last)",
      "\u001b[1;32m<ipython-input-31-6ffb089a9664>\u001b[0m in \u001b[0;36m<module>\u001b[1;34m\u001b[0m\n\u001b[0;32m      2\u001b[0m \u001b[1;32mdef\u001b[0m \u001b[0mhola\u001b[0m\u001b[1;33m(\u001b[0m\u001b[0mtexto\u001b[0m\u001b[1;33m)\u001b[0m\u001b[1;33m:\u001b[0m\u001b[1;33m\u001b[0m\u001b[1;33m\u001b[0m\u001b[0m\n\u001b[0;32m      3\u001b[0m     \u001b[1;32mreturn\u001b[0m \u001b[0mtexto\u001b[0m\u001b[1;33m\u001b[0m\u001b[1;33m\u001b[0m\u001b[0m\n\u001b[1;32m----> 4\u001b[1;33m \u001b[0mhola\u001b[0m\u001b[1;33m(\u001b[0m\u001b[1;34m\"texto\"\u001b[0m\u001b[1;33m)\u001b[0m\u001b[1;33m\u001b[0m\u001b[1;33m\u001b[0m\u001b[0m\n\u001b[0m",
      "\u001b[1;31mTypeError\u001b[0m: decorar() takes 0 positional arguments but 1 was given"
     ]
    }
   ],
   "source": [
    "@monitorizar\n",
    "def hola(texto):\n",
    "    return texto\n",
    "hola(\"texto\")#vemos que tendremos que modificar la función de coradora que utiliza hola() para que acepte parámetros"
   ]
  },
  {
   "cell_type": "code",
   "execution_count": 1,
   "metadata": {},
   "outputs": [],
   "source": [
    "def monitorizar_arg(funcion):#modificando el decorador para que acepte argumentos\n",
    "    def decorar(*args, **kwargs):\n",
    "        print(\"se esta ejecutando la función\\n\", funcion.__name__)\n",
    "        \n",
    "        funcion(*args, **kwargs)\n",
    "        \n",
    "        print(\"se ejecutó la función\\n \",funcion.__name__)\n",
    "    return decorar"
   ]
  },
  {
   "cell_type": "code",
   "execution_count": 4,
   "metadata": {},
   "outputs": [],
   "source": [
    "@monitorizar_arg#Volviendo a crearlas para enviar argumentos\n",
    "def hola(nombre):\n",
    "    print( \"hola {}\".format(nombre))\n",
    "@monitorizar_arg\n",
    "def adios(nombre):\n",
    "    print(\"adios {}\".format(nombre))"
   ]
  },
  {
   "cell_type": "code",
   "execution_count": 5,
   "metadata": {},
   "outputs": [
    {
     "name": "stdout",
     "output_type": "stream",
     "text": [
      "se esta ejecutando la función\n",
      " hola\n",
      "hola barry\n",
      "se ejecutó la función\n",
      "  hola\n"
     ]
    }
   ],
   "source": [
    "hola(\"barry\")"
   ]
  },
  {
   "cell_type": "code",
   "execution_count": null,
   "metadata": {},
   "outputs": [],
   "source": []
  }
 ],
 "metadata": {
  "kernelspec": {
   "display_name": "Python 3",
   "language": "python",
   "name": "python3"
  },
  "language_info": {
   "codemirror_mode": {
    "name": "ipython",
    "version": 3
   },
   "file_extension": ".py",
   "mimetype": "text/x-python",
   "name": "python",
   "nbconvert_exporter": "python",
   "pygments_lexer": "ipython3",
   "version": "3.7.6"
  }
 },
 "nbformat": 4,
 "nbformat_minor": 4
}
