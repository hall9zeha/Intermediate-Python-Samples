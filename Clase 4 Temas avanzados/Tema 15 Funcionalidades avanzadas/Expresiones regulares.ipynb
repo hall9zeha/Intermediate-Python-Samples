{
 "cells": [
  {
   "cell_type": "code",
   "execution_count": 2,
   "metadata": {},
   "outputs": [
    {
     "data": {
      "text/plain": [
       "<re.Match object; span=(29, 34), match='Barry'>"
      ]
     },
     "execution_count": 2,
     "metadata": {},
     "output_type": "execute_result"
    }
   ],
   "source": [
    "import re\n",
    "\n",
    "texto =\"en esta cadena de texto esta Barry\"\n",
    "\n",
    "re.search('Barry',texto)#si se encuentra en la cadena devuelve un objeto"
   ]
  },
  {
   "cell_type": "code",
   "execution_count": 4,
   "metadata": {},
   "outputs": [],
   "source": [
    "re.search('hola',texto)#si no se encuentra la palabra en la cadena no devuelve nada"
   ]
  },
  {
   "cell_type": "code",
   "execution_count": 5,
   "metadata": {},
   "outputs": [],
   "source": [
    "palabra=\"hola\"\n",
    "\n",
    "encontrado=re.search(palabra,texto)"
   ]
  },
  {
   "cell_type": "code",
   "execution_count": 6,
   "metadata": {},
   "outputs": [
    {
     "name": "stdout",
     "output_type": "stream",
     "text": [
      "no se encontro el patrón\n"
     ]
    }
   ],
   "source": [
    "if encontrado is not None:\n",
    "    print(\"se ha encontrado la palabra\")\n",
    "else:\n",
    "    print(\"no se encontro el patrón\")"
   ]
  },
  {
   "cell_type": "code",
   "execution_count": 7,
   "metadata": {},
   "outputs": [],
   "source": [
    "palabra=\"Barry\"\n",
    "\n",
    "encontrado=re.search(palabra,texto)"
   ]
  },
  {
   "cell_type": "code",
   "execution_count": 8,
   "metadata": {},
   "outputs": [
    {
     "data": {
      "text/plain": [
       "29"
      ]
     },
     "execution_count": 8,
     "metadata": {},
     "output_type": "execute_result"
    }
   ],
   "source": [
    "#probando fucniones interesantes de re.search\n",
    "encontrado.start()#la posición desde donde empieza la cadena buscada"
   ]
  },
  {
   "cell_type": "code",
   "execution_count": 9,
   "metadata": {},
   "outputs": [
    {
     "data": {
      "text/plain": [
       "34"
      ]
     },
     "execution_count": 9,
     "metadata": {},
     "output_type": "execute_result"
    }
   ],
   "source": [
    "encontrado.end()"
   ]
  },
  {
   "cell_type": "code",
   "execution_count": 11,
   "metadata": {},
   "outputs": [
    {
     "data": {
      "text/plain": [
       "(29, 34)"
      ]
     },
     "execution_count": 11,
     "metadata": {},
     "output_type": "execute_result"
    }
   ],
   "source": [
    "encontrado.span()"
   ]
  },
  {
   "cell_type": "code",
   "execution_count": 13,
   "metadata": {},
   "outputs": [
    {
     "data": {
      "text/plain": [
       "'en esta cadena de texto esta Barry'"
      ]
     },
     "execution_count": 13,
     "metadata": {},
     "output_type": "execute_result"
    }
   ],
   "source": [
    "encontrado.string"
   ]
  },
  {
   "cell_type": "code",
   "execution_count": 15,
   "metadata": {},
   "outputs": [
    {
     "data": {
      "text/plain": [
       "<re.Match object; span=(0, 4), match='hola'>"
      ]
     },
     "execution_count": 15,
     "metadata": {},
     "output_type": "execute_result"
    }
   ],
   "source": [
    "#función que busca la coincidencia al inicar la cadena\n",
    "texto=\"hola mundo\"\n",
    "re.match(\"hola\",texto)"
   ]
  },
  {
   "cell_type": "code",
   "execution_count": 16,
   "metadata": {},
   "outputs": [],
   "source": [
    "re.match(\"mola\",texto)"
   ]
  },
  {
   "cell_type": "code",
   "execution_count": 17,
   "metadata": {},
   "outputs": [
    {
     "data": {
      "text/plain": [
       "['vamos', 'a', 'dividir', 'este', 'texto', 'por', 'espacios']"
      ]
     },
     "execution_count": 17,
     "metadata": {},
     "output_type": "execute_result"
    }
   ],
   "source": [
    "texto=\"vamos a dividir este texto por espacios\"\n",
    "re.split(\" \", texto)"
   ]
  },
  {
   "cell_type": "code",
   "execution_count": 18,
   "metadata": {},
   "outputs": [
    {
     "data": {
      "text/plain": [
       "'hola a amiga'"
      ]
     },
     "execution_count": 18,
     "metadata": {},
     "output_type": "execute_result"
    }
   ],
   "source": [
    "texto =\"hola a amigo\"\n",
    "re.sub(\"amigo\",\"amiga\",texto)"
   ]
  },
  {
   "cell_type": "code",
   "execution_count": 19,
   "metadata": {},
   "outputs": [
    {
     "data": {
      "text/plain": [
       "['hola', 'hola', 'hola']"
      ]
     },
     "execution_count": 19,
     "metadata": {},
     "output_type": "execute_result"
    }
   ],
   "source": [
    "texto =\"hola adios bye hola hola\"\n",
    "re.findall(\"hola\",texto)"
   ]
  },
  {
   "cell_type": "code",
   "execution_count": 20,
   "metadata": {},
   "outputs": [
    {
     "data": {
      "text/plain": [
       "3"
      ]
     },
     "execution_count": 20,
     "metadata": {},
     "output_type": "execute_result"
    }
   ],
   "source": [
    "len(re.findall(\"hola\",texto))"
   ]
  },
  {
   "cell_type": "code",
   "execution_count": 21,
   "metadata": {},
   "outputs": [
    {
     "data": {
      "text/plain": [
       "['hola', 'bye', 'hola', 'hola']"
      ]
     },
     "execution_count": 21,
     "metadata": {},
     "output_type": "execute_result"
    }
   ],
   "source": [
    "re.findall(\"hola|bye\",texto)"
   ]
  },
  {
   "cell_type": "code",
   "execution_count": 23,
   "metadata": {},
   "outputs": [
    {
     "data": {
      "text/plain": [
       "['hla']"
      ]
     },
     "execution_count": 23,
     "metadata": {},
     "output_type": "execute_result"
    }
   ],
   "source": [
    "texto=\"hla hola hhola hoooola\"\n",
    "\n",
    "re.findall(\"hla\",texto)"
   ]
  },
  {
   "cell_type": "code",
   "execution_count": 24,
   "metadata": {},
   "outputs": [
    {
     "name": "stdout",
     "output_type": "stream",
     "text": [
      "['hola', 'hola']\n",
      "['hla']\n",
      "['hoooola']\n"
     ]
    }
   ],
   "source": [
    "#creamos una función para buscar los patrones repetidos sin tener que estar excribiendo constantemente\n",
    "\n",
    "def buscar(patrones, texto):\n",
    "    for patron in patrones:\n",
    "        print(re.findall(patron,texto))\n",
    "patrones=[\"hola\", \"hla\",\"hoooola\"]\n",
    "buscar(patrones,texto)"
   ]
  },
  {
   "cell_type": "code",
   "execution_count": 25,
   "metadata": {
    "scrolled": false
   },
   "outputs": [
    {
     "name": "stdout",
     "output_type": "stream",
     "text": [
      "['ho', 'ho', 'ho']\n",
      "['h', 'ho', 'h', 'ho', 'hoooo']\n",
      "['hla', 'hola', 'hola', 'hoooola']\n",
      "['hla']\n"
     ]
    }
   ],
   "source": [
    "texto=\"hla hola hhola hoooola\"\n",
    "\n",
    "#usaremos un metacaracter * para buscar\n",
    "patrones=[\"ho\",\"ho*\",\"ho*la\",\"hu*la\"] #una o ninguna repetición del carácter a la izquierda del meta caracter\n",
    "buscar(patrones,texto)"
   ]
  },
  {
   "cell_type": "code",
   "execution_count": 26,
   "metadata": {},
   "outputs": [
    {
     "name": "stdout",
     "output_type": "stream",
     "text": [
      "['ho', 'ho', 'ho']\n",
      "['ho', 'ho', 'hoooo']\n",
      "['h', 'ho', 'h', 'ho', 'ho']\n",
      "['hla', 'hola', 'hola']\n"
     ]
    }
   ],
   "source": [
    "texto=\"hla hola hhola hoooola\"\n",
    "\n",
    "#usaremos un metacaracter * para buscar\n",
    "patrones=[\"ho\",\"ho+\",\"ho?\",\"ho?la\"] #una o ninguna repetición del carácter a la izquierda del meta caracter\n",
    "buscar(patrones,texto)"
   ]
  },
  {
   "cell_type": "code",
   "execution_count": 27,
   "metadata": {},
   "outputs": [
    {
     "name": "stdout",
     "output_type": "stream",
     "text": [
      "['hla']\n",
      "['hola', 'hola']\n",
      "['hoooo']\n"
     ]
    }
   ],
   "source": [
    "texto=\"hla hola hhola hoooola\"\n",
    "\n",
    "#usaremos un rango específico de repeticiones que queremos para buscar\n",
    "patrones=[\"ho{0}la\",\"ho{1}la\",\"ho{4}\"] #ninguna o el {número} de repetición del carácter a la izquierda del meta caracter\n",
    "buscar(patrones,texto)"
   ]
  },
  {
   "cell_type": "code",
   "execution_count": 28,
   "metadata": {},
   "outputs": [
    {
     "name": "stdout",
     "output_type": "stream",
     "text": [
      "['hla', 'hola', 'hola']\n",
      "['hola', 'hola']\n",
      "['hoooo']\n"
     ]
    }
   ],
   "source": [
    "texto=\"hla hola hhola hoooola\"\n",
    "\n",
    "#usaremos un rango específico de repeticiones que queremos para buscar\n",
    "patrones=[\"ho{0,1}la\",\"ho{1,2}la\",\"ho{2,10}\"] #ninguna o el {rango} de repetición del carácter a la izquierda del meta caracter\n",
    "buscar(patrones,texto)"
   ]
  },
  {
   "cell_type": "code",
   "execution_count": 29,
   "metadata": {},
   "outputs": [
    {
     "name": "stdout",
     "output_type": "stream",
     "text": [
      "['hala', 'hola']\n",
      "['hela', 'hila', 'hula']\n",
      "['hala', 'hela', 'hila', 'hula', 'hola']\n"
     ]
    }
   ],
   "source": [
    "texto=\"hala hela hila hula, hola\"\n",
    "\n",
    "#usaremos un conjunto de patrones dentro de [] para buscar\n",
    "patrones=[\"h[oa]la\",\"h[eiu]la\",\"h[aeiou]la\"] #ninguna o el [] de repetición del carácter a la izquierda del meta caracter\n",
    "buscar(patrones,texto)"
   ]
  },
  {
   "cell_type": "code",
   "execution_count": 30,
   "metadata": {},
   "outputs": [
    {
     "name": "stdout",
     "output_type": "stream",
     "text": [
      "[]\n",
      "['haaala', 'heeeela']\n",
      "['hiiiila', 'hooooooooola']\n"
     ]
    }
   ],
   "source": [
    "texto=\"haaala heeeela hiiiila , hooooooooola\"\n",
    "\n",
    "#usaremos un conjunto de patrones dentro de [] y rangos {} para buscar\n",
    "patrones=[\"h[ae]la\",\"h[ae]*la\",\"h[io]{3,9}la\"]\n",
    "buscar(patrones,texto)"
   ]
  },
  {
   "cell_type": "code",
   "execution_count": 31,
   "metadata": {},
   "outputs": [
    {
     "name": "stdout",
     "output_type": "stream",
     "text": [
      "['hola']\n",
      "['hala', 'hela', 'hila', 'hula']\n"
     ]
    }
   ],
   "source": [
    "texto=\"hala hela hila , hola, hula\"\n",
    "\n",
    "\n",
    "patrones=[\"h[o]la\", \"h[^o]la\"]#^signifoca que busque todo lo que sea diferente a lo que esta a su derecha\n",
    "buscar(patrones,texto)"
   ]
  },
  {
   "cell_type": "code",
   "execution_count": 32,
   "metadata": {},
   "outputs": [
    {
     "name": "stdout",
     "output_type": "stream",
     "text": [
      "['hola']\n",
      "['h0la']\n",
      "['hola', 'Hola']\n",
      "['Hola', 'M0la']\n"
     ]
    }
   ],
   "source": [
    "texto =\"hola h0la Hola m0la M0la \"\n",
    "patrones=[\"h[a-z]la\",\"h[0-9]la\",\"[A-z]{4}\", \"[A-Z][A-z0-9]{3}\"]\n",
    "buscar(patrones,texto)"
   ]
  },
  {
   "cell_type": "code",
   "execution_count": 33,
   "metadata": {},
   "outputs": [
    {
     "name": "stdout",
     "output_type": "stream",
     "text": [
      "['3', '2', '0', '2', '0']\n",
      "['3', '2020']\n",
      "['E', 's', 't', 'e', ' ', 'c', 'u', 'r', 's', 'o', ' ', 'd', 'e', ' ', 'p', 'y', 't', 'h', 'o', 'n', ' ', ' ', 'l', 'o', ' ', 'e', 's', 't', 'u', 'd', 'i', 'é', ' ', 'e', 'n', ' ']\n",
      "['Este curso de python ', ' lo estudié en ']\n",
      "[' ', ' ', ' ', ' ', ' ', ' ', ' ', ' ']\n",
      "['E', 's', 't', 'e', 'c', 'u', 'r', 's', 'o', 'd', 'e', 'p', 'y', 't', 'h', 'o', 'n', '3', 'l', 'o', 'e', 's', 't', 'u', 'd', 'i', 'é', 'e', 'n', '2', '0', '2', '0']\n",
      "['Este', 'curso', 'de', 'python', '3', 'lo', 'estudié', 'en', '2020']\n",
      "['E', 's', 't', 'e', 'c', 'u', 'r', 's', 'o', 'd', 'e', 'p', 'y', 't', 'h', 'o', 'n', '3', 'l', 'o', 'e', 's', 't', 'u', 'd', 'i', 'é', 'e', 'n', '2', '0', '2', '0']\n",
      "['Este', 'curso', 'de', 'python', '3', 'lo', 'estudié', 'en', '2020']\n",
      "[' ', ' ', ' ', ' ', ' ', ' ', ' ', ' ']\n",
      "[' ', ' ', ' ', ' ', ' ', ' ', ' ', ' ']\n"
     ]
    }
   ],
   "source": [
    "#usando caracteres escapados pondremos r delante de los caracteres escapados para que no los tomo por simples cadenas\n",
    "\n",
    "texto =\"Este curso de python 3 lo estudié en 2020\"\n",
    "\n",
    "patrones=[r\"\\d\",r\"\\d+\",r\"\\D\", r\"\\D+\", r\"\\s\", r\"\\S\", r\"\\S+\", r\"\\w\", r\"\\w+\", r\"\\W\", r\"\\W+\"]\n",
    "\n",
    "buscar(patrones,texto)"
   ]
  },
  {
   "cell_type": "code",
   "execution_count": null,
   "metadata": {},
   "outputs": [],
   "source": []
  }
 ],
 "metadata": {
  "kernelspec": {
   "display_name": "Python 3",
   "language": "python",
   "name": "python3"
  },
  "language_info": {
   "codemirror_mode": {
    "name": "ipython",
    "version": 3
   },
   "file_extension": ".py",
   "mimetype": "text/x-python",
   "name": "python",
   "nbconvert_exporter": "python",
   "pygments_lexer": "ipython3",
   "version": "3.7.6"
  }
 },
 "nbformat": 4,
 "nbformat_minor": 4
}
