{
 "cells": [
  {
   "cell_type": "code",
   "execution_count": 18,
   "metadata": {},
   "outputs": [],
   "source": [
    "from io import open\n",
    "import pickle\n",
    "\n",
    "class Peliculas:\n",
    "    \n",
    "    def __init__(self, nombre, duracion, lanzamiento):\n",
    "        self.nombre=nombre\n",
    "        self.duracion=duracion\n",
    "        self.lanzamiento=lanzamiento\n",
    "    \n",
    "    def __str__(self):\n",
    "        return \"{} ({})\".format(self.nombre,self.lanzamiento)\n",
    "    \n",
    "class Catalogo:\n",
    "    \n",
    "    peliculas=[]\n",
    "    \n",
    "    def __init__(self):\n",
    "        self.cargar()\n",
    "        \n",
    "    def agregar(self,p):\n",
    "        self.peliculas.append(p)\n",
    "        self.guardar()\n",
    "    \n",
    "    def mostrar(self):\n",
    "        if len(self.peliculas)==0:\n",
    "            print(\"el catálogo está vacío\")\n",
    "            return\n",
    "        for p in self.peliculas:\n",
    "            print(p)\n",
    "    def guardar(self):\n",
    "        fichero=open(\"catalogo.pckl\",\"wb\")\n",
    "        pickle.dump(self.peliculas,fichero)\n",
    "        fichero.close()\n",
    "        del(fichero)\n",
    "    def cargar(self):\n",
    "        fichero=open(\"catalogo.pckl\",\"ab+\")#append binario mas escritura\n",
    "        fichero.seek(0)#reiniciamos el puntero al inicio siempre\n",
    "        #dentro de un bloque try para cuando la lista esté vacía\n",
    "        try:\n",
    "            self.peliculas=pickle.load(fichero)\n",
    "        except:\n",
    "            print(\"el fichero está vacío\")\n",
    "        finally:\n",
    "            fichero.close()\n",
    "            del(fichero)\n",
    "            print(\"se han cargado {} películas\".format(len(self.peliculas)))\n",
    "    \n",
    "    \n",
    "    def __del__(self):\n",
    "        self.guardar()"
   ]
  },
  {
   "cell_type": "code",
   "execution_count": 20,
   "metadata": {},
   "outputs": [
    {
     "name": "stdout",
     "output_type": "stream",
     "text": [
      "el fichero está vacío\n",
      "se han cargado 0 películas\n"
     ]
    }
   ],
   "source": [
    "c=Catalogo()"
   ]
  },
  {
   "cell_type": "code",
   "execution_count": 13,
   "metadata": {},
   "outputs": [
    {
     "name": "stdout",
     "output_type": "stream",
     "text": [
      "el catálogo está vacío\n"
     ]
    }
   ],
   "source": [
    "c.mostrar()"
   ]
  },
  {
   "cell_type": "code",
   "execution_count": 23,
   "metadata": {},
   "outputs": [],
   "source": [
    "c.agregar(Peliculas(\"Wonder woman\",\"170\",\"2020\"))"
   ]
  },
  {
   "cell_type": "code",
   "execution_count": 21,
   "metadata": {},
   "outputs": [],
   "source": [
    "c.agregar(Peliculas(\"The flash\",\"160\",\"2022\"))"
   ]
  },
  {
   "cell_type": "code",
   "execution_count": 24,
   "metadata": {},
   "outputs": [
    {
     "name": "stdout",
     "output_type": "stream",
     "text": [
      "The flash (2022)\n",
      "Wonder woman (2020)\n"
     ]
    }
   ],
   "source": [
    "c.mostrar()"
   ]
  },
  {
   "cell_type": "code",
   "execution_count": 25,
   "metadata": {},
   "outputs": [],
   "source": [
    "del(c)"
   ]
  },
  {
   "cell_type": "code",
   "execution_count": 26,
   "metadata": {},
   "outputs": [
    {
     "name": "stdout",
     "output_type": "stream",
     "text": [
      "se han cargado 2 películas\n"
     ]
    }
   ],
   "source": [
    "c=Catalogo()"
   ]
  },
  {
   "cell_type": "code",
   "execution_count": 27,
   "metadata": {},
   "outputs": [
    {
     "name": "stdout",
     "output_type": "stream",
     "text": [
      "The flash (2022)\n",
      "Wonder woman (2020)\n"
     ]
    }
   ],
   "source": [
    "c.mostrar()"
   ]
  },
  {
   "cell_type": "code",
   "execution_count": null,
   "metadata": {},
   "outputs": [],
   "source": []
  }
 ],
 "metadata": {
  "kernelspec": {
   "display_name": "Python 3",
   "language": "python",
   "name": "python3"
  },
  "language_info": {
   "codemirror_mode": {
    "name": "ipython",
    "version": 3
   },
   "file_extension": ".py",
   "mimetype": "text/x-python",
   "name": "python",
   "nbconvert_exporter": "python",
   "pygments_lexer": "ipython3",
   "version": "3.7.6"
  }
 },
 "nbformat": 4,
 "nbformat_minor": 4
}
